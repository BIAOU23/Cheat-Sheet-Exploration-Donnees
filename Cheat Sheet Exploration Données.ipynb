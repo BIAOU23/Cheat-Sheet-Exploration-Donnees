{
 "cells": [
  {
   "cell_type": "markdown",
   "id": "e22bdbf6",
   "metadata": {},
   "source": [
    "# Cheat sheet exploration de données"
   ]
  },
  {
   "cell_type": "markdown",
   "id": "1934ad13",
   "metadata": {},
   "source": [
    "## Sommaire\n",
    "    I - Import des modules nécessaires\n",
    "    II - Lecture du fichier csv\n",
    "    III - Description\n",
    "        1 - Colonnes\n",
    "        2 - Dimensionnalité du dataframe\n",
    "        3 - Description du dataframe\n",
    "        4 - Infos et Types des colonnes\n",
    "        5a - Valeurs manquantes\n",
    "        5b - Valeurs manquantes en pourcentage\n",
    "        6 - Compter les valeurs par colonne\n",
    "        7 - Le mode ou la valeur la plus fréquente\n",
    "    IV - Preprocessing et transformation\n",
    "        8a - Transformer une colonne date en format datetime\n",
    "        8b - Modifier le format de la date\n",
    "        9 - Remplir des valeurs NULL\n",
    "        10 - Convertir le type d'une colonne\n",
    "        11 - Remplacer des valeurs\n",
    "        12 - Groupby\n",
    "        13a1 - Filtrer un dataframe : lignes\n",
    "        13a2 - Filtrer un dataframe : lignes\n",
    "        13a3 - Filtrer un dataframe : lignes\n",
    "        13b - Filtrer un dataframe : colonnes\n",
    "        14 - Exporter un fichier en csv\n",
    "    V - Visualisation des données\n",
    "        15a - Visualisation avec la fonction plot d'un Dataframe (pandas)\n",
    "        15b - Visualisation avec la fonction plot de Seaborn\n",
    "        15c - Visualisation avec la fonction plot de Matplotlib\n",
    "        16 - Visualisation en nuage de point (scatterplot)\n",
    "        17 - Analyse des corrélations entre variables"
   ]
  },
  {
   "cell_type": "markdown",
   "id": "82169538",
   "metadata": {},
   "source": [
    "## I - Import des modules nécessaires"
   ]
  },
  {
   "cell_type": "markdown",
   "id": "c3064453",
   "metadata": {},
   "source": [
    "Afin de manipuler les données, il faut importer certains modules python (la plupart sont intégrés à l'environnement). "
   ]
  },
  {
   "cell_type": "code",
   "execution_count": 1,
   "id": "7d022a5d",
   "metadata": {},
   "outputs": [],
   "source": [
    "#Pandas : manipulation de données et preprocessing\n",
    "#Numpy : calculs scientifiques, matriciels\n",
    "#Datetime : formatage et manipulation des dates/heures\n",
    "#Matplotlib : outil de visualisation\n",
    "#Seaborn : outil de visualisation avancé avec syntaxe simplifiée (basé sur Matplotlib)\n",
    "#Dask : package avancé pour la manipulation de gros volumes de données (plus complexe que pandas) => optionnel"
   ]
  },
  {
   "cell_type": "code",
   "execution_count": 2,
   "id": "3241dbe2",
   "metadata": {},
   "outputs": [],
   "source": [
    "import os\n",
    "import pandas as pd \n",
    "import numpy as np \n",
    "from datetime import datetime \n",
    "import matplotlib.pyplot as plt \n",
    "import seaborn as sns \n",
    "import dask.dataframe as dd "
   ]
  },
  {
   "cell_type": "markdown",
   "id": "2c0693b9",
   "metadata": {},
   "source": [
    "NB : pour tout module et méthode, tapez help(module.méthode) pour afficher la documentation et l'aide\n",
    "exemple : help(pd.isna) affiche l'aide de la méthode 'isna()' du module 'pandas'"
   ]
  },
  {
   "cell_type": "code",
   "execution_count": 3,
   "id": "92222b45",
   "metadata": {},
   "outputs": [],
   "source": [
    "#help(pd.isna)"
   ]
  },
  {
   "cell_type": "markdown",
   "id": "b9fc3bb8",
   "metadata": {},
   "source": [
    "## II - Lecture du fichier csv"
   ]
  },
  {
   "cell_type": "markdown",
   "id": "c23c0d39",
   "metadata": {},
   "source": [
    "Définissons les chemins des fichiers csv à lire :\n",
    "* os.path.abspath() : renvoie le chemin abolu.\n",
    "* os.path.join() : concatene plusieurs chemins."
   ]
  },
  {
   "cell_type": "code",
   "execution_count": 4,
   "id": "7f0e7a3d",
   "metadata": {},
   "outputs": [],
   "source": [
    "BASE = os.path.abspath(\"C:/Users/sacha/OneDrive/Documents/Projets Data/PSB MScDM Course DB/Data/Barcelona data sets\")\n",
    "air_quality_path = os.path.join(BASE,\"air_quality_Nov2017.csv\")\n",
    "#source : https://www.kaggle.com/xvivancos/barcelona-data-sets?select=air_quality_Nov2017.csv"
   ]
  },
  {
   "cell_type": "markdown",
   "id": "f8dc6b4a",
   "metadata": {},
   "source": [
    "pd.read_csv() : lit un fichier csv (comma-separated values) dans un dataframe."
   ]
  },
  {
   "cell_type": "code",
   "execution_count": 5,
   "id": "6f03412a",
   "metadata": {},
   "outputs": [],
   "source": [
    "air_quality = pd.read_csv(air_quality_path)"
   ]
  },
  {
   "cell_type": "markdown",
   "id": "02973cb5",
   "metadata": {},
   "source": [
    "## III - Description"
   ]
  },
  {
   "cell_type": "markdown",
   "id": "b403869e",
   "metadata": {},
   "source": [
    "pd.DataFrame.head() : sort les 5 premières lignes du dataframe"
   ]
  },
  {
   "cell_type": "code",
   "execution_count": 6,
   "id": "ed26c81c",
   "metadata": {},
   "outputs": [
    {
     "data": {
      "text/html": [
       "<div>\n",
       "<style scoped>\n",
       "    .dataframe tbody tr th:only-of-type {\n",
       "        vertical-align: middle;\n",
       "    }\n",
       "\n",
       "    .dataframe tbody tr th {\n",
       "        vertical-align: top;\n",
       "    }\n",
       "\n",
       "    .dataframe thead th {\n",
       "        text-align: right;\n",
       "    }\n",
       "</style>\n",
       "<table border=\"1\" class=\"dataframe\">\n",
       "  <thead>\n",
       "    <tr style=\"text-align: right;\">\n",
       "      <th></th>\n",
       "      <th>Station</th>\n",
       "      <th>Air Quality</th>\n",
       "      <th>Longitude</th>\n",
       "      <th>Latitude</th>\n",
       "      <th>O3 Hour</th>\n",
       "      <th>O3 Quality</th>\n",
       "      <th>O3 Value</th>\n",
       "      <th>NO2 Hour</th>\n",
       "      <th>NO2 Quality</th>\n",
       "      <th>NO2 Value</th>\n",
       "      <th>PM10 Hour</th>\n",
       "      <th>PM10 Quality</th>\n",
       "      <th>PM10 Value</th>\n",
       "      <th>Generated</th>\n",
       "      <th>Date Time</th>\n",
       "    </tr>\n",
       "  </thead>\n",
       "  <tbody>\n",
       "    <tr>\n",
       "      <th>0</th>\n",
       "      <td>Barcelona - Sants</td>\n",
       "      <td>Good</td>\n",
       "      <td>2.1331</td>\n",
       "      <td>41.3788</td>\n",
       "      <td>NaN</td>\n",
       "      <td>NaN</td>\n",
       "      <td>NaN</td>\n",
       "      <td>0h</td>\n",
       "      <td>Good</td>\n",
       "      <td>84.0</td>\n",
       "      <td>NaN</td>\n",
       "      <td>NaN</td>\n",
       "      <td>NaN</td>\n",
       "      <td>01/11/2018 0:00</td>\n",
       "      <td>1541027104</td>\n",
       "    </tr>\n",
       "    <tr>\n",
       "      <th>1</th>\n",
       "      <td>Barcelona - Eixample</td>\n",
       "      <td>Moderate</td>\n",
       "      <td>2.1538</td>\n",
       "      <td>41.3853</td>\n",
       "      <td>0h</td>\n",
       "      <td>Good</td>\n",
       "      <td>1.0</td>\n",
       "      <td>0h</td>\n",
       "      <td>Moderate</td>\n",
       "      <td>113.0</td>\n",
       "      <td>0h</td>\n",
       "      <td>Good</td>\n",
       "      <td>36.0</td>\n",
       "      <td>01/11/2018 0:00</td>\n",
       "      <td>1541027104</td>\n",
       "    </tr>\n",
       "    <tr>\n",
       "      <th>2</th>\n",
       "      <td>Barcelona - Gràcia</td>\n",
       "      <td>Good</td>\n",
       "      <td>2.1534</td>\n",
       "      <td>41.3987</td>\n",
       "      <td>0h</td>\n",
       "      <td>Good</td>\n",
       "      <td>10.0</td>\n",
       "      <td>0h</td>\n",
       "      <td>Good</td>\n",
       "      <td>73.0</td>\n",
       "      <td>NaN</td>\n",
       "      <td>NaN</td>\n",
       "      <td>NaN</td>\n",
       "      <td>01/11/2018 0:00</td>\n",
       "      <td>1541027104</td>\n",
       "    </tr>\n",
       "    <tr>\n",
       "      <th>3</th>\n",
       "      <td>Barcelona - Ciutadella</td>\n",
       "      <td>Good</td>\n",
       "      <td>2.1874</td>\n",
       "      <td>41.3864</td>\n",
       "      <td>0h</td>\n",
       "      <td>Good</td>\n",
       "      <td>2.0</td>\n",
       "      <td>0h</td>\n",
       "      <td>Good</td>\n",
       "      <td>86.0</td>\n",
       "      <td>NaN</td>\n",
       "      <td>NaN</td>\n",
       "      <td>NaN</td>\n",
       "      <td>01/11/2018 0:00</td>\n",
       "      <td>1541027104</td>\n",
       "    </tr>\n",
       "    <tr>\n",
       "      <th>4</th>\n",
       "      <td>Barcelona - Vall Hebron</td>\n",
       "      <td>Good</td>\n",
       "      <td>2.1480</td>\n",
       "      <td>41.4261</td>\n",
       "      <td>0h</td>\n",
       "      <td>Good</td>\n",
       "      <td>7.0</td>\n",
       "      <td>0h</td>\n",
       "      <td>Good</td>\n",
       "      <td>69.0</td>\n",
       "      <td>NaN</td>\n",
       "      <td>NaN</td>\n",
       "      <td>NaN</td>\n",
       "      <td>01/11/2018 0:00</td>\n",
       "      <td>1541027104</td>\n",
       "    </tr>\n",
       "  </tbody>\n",
       "</table>\n",
       "</div>"
      ],
      "text/plain": [
       "                   Station Air Quality  Longitude  Latitude O3 Hour  \\\n",
       "0        Barcelona - Sants        Good     2.1331   41.3788     NaN   \n",
       "1     Barcelona - Eixample    Moderate     2.1538   41.3853      0h   \n",
       "2       Barcelona - Gràcia        Good     2.1534   41.3987      0h   \n",
       "3   Barcelona - Ciutadella        Good     2.1874   41.3864      0h   \n",
       "4  Barcelona - Vall Hebron        Good     2.1480   41.4261      0h   \n",
       "\n",
       "  O3 Quality  O3 Value NO2 Hour NO2 Quality  NO2 Value PM10 Hour PM10 Quality  \\\n",
       "0        NaN       NaN       0h        Good       84.0       NaN          NaN   \n",
       "1       Good       1.0       0h    Moderate      113.0        0h         Good   \n",
       "2       Good      10.0       0h        Good       73.0       NaN          NaN   \n",
       "3       Good       2.0       0h        Good       86.0       NaN          NaN   \n",
       "4       Good       7.0       0h        Good       69.0       NaN          NaN   \n",
       "\n",
       "   PM10 Value        Generated   Date Time  \n",
       "0         NaN  01/11/2018 0:00  1541027104  \n",
       "1        36.0  01/11/2018 0:00  1541027104  \n",
       "2         NaN  01/11/2018 0:00  1541027104  \n",
       "3         NaN  01/11/2018 0:00  1541027104  \n",
       "4         NaN  01/11/2018 0:00  1541027104  "
      ]
     },
     "execution_count": 6,
     "metadata": {},
     "output_type": "execute_result"
    }
   ],
   "source": [
    "air_quality.head()"
   ]
  },
  {
   "cell_type": "markdown",
   "id": "3808145a",
   "metadata": {},
   "source": [
    "### 1 - Colonnes"
   ]
  },
  {
   "cell_type": "markdown",
   "id": "0c1485c4",
   "metadata": {},
   "source": [
    "pd.DataFrame.columns : liste les colonnes du dataframe"
   ]
  },
  {
   "cell_type": "code",
   "execution_count": 7,
   "id": "8a302710",
   "metadata": {},
   "outputs": [
    {
     "data": {
      "text/plain": [
       "Index(['Station', 'Air Quality', 'Longitude', 'Latitude', 'O3 Hour',\n",
       "       'O3 Quality', 'O3 Value', 'NO2 Hour', 'NO2 Quality', 'NO2 Value',\n",
       "       'PM10 Hour', 'PM10 Quality', 'PM10 Value', 'Generated', 'Date Time'],\n",
       "      dtype='object')"
      ]
     },
     "execution_count": 7,
     "metadata": {},
     "output_type": "execute_result"
    }
   ],
   "source": [
    "air_quality.columns"
   ]
  },
  {
   "cell_type": "markdown",
   "id": "2044e944",
   "metadata": {},
   "source": [
    "### 2 - Dimensionnalité du dataframe"
   ]
  },
  {
   "cell_type": "markdown",
   "id": "ca9164d4",
   "metadata": {},
   "source": [
    "pd.DataFrame.shape : renvoie un tuple des dimensions du dataframe (rows, columns)"
   ]
  },
  {
   "cell_type": "code",
   "execution_count": 8,
   "id": "c3198fdd",
   "metadata": {},
   "outputs": [
    {
     "data": {
      "text/plain": [
       "(5744, 15)"
      ]
     },
     "execution_count": 8,
     "metadata": {},
     "output_type": "execute_result"
    }
   ],
   "source": [
    "air_quality.shape"
   ]
  },
  {
   "cell_type": "markdown",
   "id": "200977c4",
   "metadata": {},
   "source": [
    "### 3 - Description du dataframe"
   ]
  },
  {
   "cell_type": "markdown",
   "id": "d4485310",
   "metadata": {},
   "source": [
    "pd.DataFrame.describe() : génère des statistiques descriptives"
   ]
  },
  {
   "cell_type": "code",
   "execution_count": 9,
   "id": "0ca38a61",
   "metadata": {},
   "outputs": [
    {
     "data": {
      "text/html": [
       "<div>\n",
       "<style scoped>\n",
       "    .dataframe tbody tr th:only-of-type {\n",
       "        vertical-align: middle;\n",
       "    }\n",
       "\n",
       "    .dataframe tbody tr th {\n",
       "        vertical-align: top;\n",
       "    }\n",
       "\n",
       "    .dataframe thead th {\n",
       "        text-align: right;\n",
       "    }\n",
       "</style>\n",
       "<table border=\"1\" class=\"dataframe\">\n",
       "  <thead>\n",
       "    <tr style=\"text-align: right;\">\n",
       "      <th></th>\n",
       "      <th>Longitude</th>\n",
       "      <th>Latitude</th>\n",
       "      <th>O3 Value</th>\n",
       "      <th>NO2 Value</th>\n",
       "      <th>PM10 Value</th>\n",
       "      <th>Date Time</th>\n",
       "    </tr>\n",
       "  </thead>\n",
       "  <tbody>\n",
       "    <tr>\n",
       "      <th>count</th>\n",
       "      <td>5744.00000</td>\n",
       "      <td>5744.000000</td>\n",
       "      <td>4101.000000</td>\n",
       "      <td>5460.000000</td>\n",
       "      <td>3647.000000</td>\n",
       "      <td>5.744000e+03</td>\n",
       "    </tr>\n",
       "    <tr>\n",
       "      <th>mean</th>\n",
       "      <td>2.15240</td>\n",
       "      <td>13877.827714</td>\n",
       "      <td>34.082907</td>\n",
       "      <td>35.740293</td>\n",
       "      <td>16.590074</td>\n",
       "      <td>1.542323e+09</td>\n",
       "    </tr>\n",
       "    <tr>\n",
       "      <th>std</th>\n",
       "      <td>0.02859</td>\n",
       "      <td>74410.803168</td>\n",
       "      <td>22.960687</td>\n",
       "      <td>22.357262</td>\n",
       "      <td>8.065424</td>\n",
       "      <td>7.483961e+05</td>\n",
       "    </tr>\n",
       "    <tr>\n",
       "      <th>min</th>\n",
       "      <td>2.11510</td>\n",
       "      <td>41.378800</td>\n",
       "      <td>1.000000</td>\n",
       "      <td>1.000000</td>\n",
       "      <td>2.000000</td>\n",
       "      <td>1.541027e+09</td>\n",
       "    </tr>\n",
       "    <tr>\n",
       "      <th>25%</th>\n",
       "      <td>2.13080</td>\n",
       "      <td>41.386400</td>\n",
       "      <td>14.000000</td>\n",
       "      <td>17.000000</td>\n",
       "      <td>10.000000</td>\n",
       "      <td>1.541675e+09</td>\n",
       "    </tr>\n",
       "    <tr>\n",
       "      <th>50%</th>\n",
       "      <td>2.15070</td>\n",
       "      <td>41.398700</td>\n",
       "      <td>34.000000</td>\n",
       "      <td>33.000000</td>\n",
       "      <td>15.000000</td>\n",
       "      <td>1.542325e+09</td>\n",
       "    </tr>\n",
       "    <tr>\n",
       "      <th>75%</th>\n",
       "      <td>2.16220</td>\n",
       "      <td>41.418300</td>\n",
       "      <td>52.000000</td>\n",
       "      <td>52.000000</td>\n",
       "      <td>22.000000</td>\n",
       "      <td>1.542971e+09</td>\n",
       "    </tr>\n",
       "    <tr>\n",
       "      <th>max</th>\n",
       "      <td>2.20450</td>\n",
       "      <td>414261.000000</td>\n",
       "      <td>100.000000</td>\n",
       "      <td>117.000000</td>\n",
       "      <td>44.000000</td>\n",
       "      <td>1.543616e+09</td>\n",
       "    </tr>\n",
       "  </tbody>\n",
       "</table>\n",
       "</div>"
      ],
      "text/plain": [
       "        Longitude       Latitude     O3 Value    NO2 Value   PM10 Value  \\\n",
       "count  5744.00000    5744.000000  4101.000000  5460.000000  3647.000000   \n",
       "mean      2.15240   13877.827714    34.082907    35.740293    16.590074   \n",
       "std       0.02859   74410.803168    22.960687    22.357262     8.065424   \n",
       "min       2.11510      41.378800     1.000000     1.000000     2.000000   \n",
       "25%       2.13080      41.386400    14.000000    17.000000    10.000000   \n",
       "50%       2.15070      41.398700    34.000000    33.000000    15.000000   \n",
       "75%       2.16220      41.418300    52.000000    52.000000    22.000000   \n",
       "max       2.20450  414261.000000   100.000000   117.000000    44.000000   \n",
       "\n",
       "          Date Time  \n",
       "count  5.744000e+03  \n",
       "mean   1.542323e+09  \n",
       "std    7.483961e+05  \n",
       "min    1.541027e+09  \n",
       "25%    1.541675e+09  \n",
       "50%    1.542325e+09  \n",
       "75%    1.542971e+09  \n",
       "max    1.543616e+09  "
      ]
     },
     "execution_count": 9,
     "metadata": {},
     "output_type": "execute_result"
    }
   ],
   "source": [
    "air_quality.describe()"
   ]
  },
  {
   "cell_type": "markdown",
   "id": "d5626d94",
   "metadata": {},
   "source": [
    "### 4 - Infos et Types des colonnes"
   ]
  },
  {
   "cell_type": "markdown",
   "id": "9dd8c48e",
   "metadata": {},
   "source": [
    "pd.DataFrame.info() : renvoie les informations concises du dataframe (colonnes, valeurs non-nulles, types, utilisation de la mémoire)."
   ]
  },
  {
   "cell_type": "code",
   "execution_count": 10,
   "id": "8a831338",
   "metadata": {},
   "outputs": [
    {
     "name": "stdout",
     "output_type": "stream",
     "text": [
      "<class 'pandas.core.frame.DataFrame'>\n",
      "RangeIndex: 5744 entries, 0 to 5743\n",
      "Data columns (total 15 columns):\n",
      " #   Column        Non-Null Count  Dtype  \n",
      "---  ------        --------------  -----  \n",
      " 0   Station       5744 non-null   object \n",
      " 1   Air Quality   5744 non-null   object \n",
      " 2   Longitude     5744 non-null   float64\n",
      " 3   Latitude      5744 non-null   float64\n",
      " 4   O3 Hour       4268 non-null   object \n",
      " 5   O3 Quality    4268 non-null   object \n",
      " 6   O3 Value      4101 non-null   float64\n",
      " 7   NO2 Hour      5689 non-null   object \n",
      " 8   NO2 Quality   5689 non-null   object \n",
      " 9   NO2 Value     5460 non-null   float64\n",
      " 10  PM10 Hour     3722 non-null   object \n",
      " 11  PM10 Quality  3722 non-null   object \n",
      " 12  PM10 Value    3647 non-null   float64\n",
      " 13  Generated     5744 non-null   object \n",
      " 14  Date Time     5744 non-null   int64  \n",
      "dtypes: float64(5), int64(1), object(9)\n",
      "memory usage: 673.2+ KB\n"
     ]
    }
   ],
   "source": [
    "air_quality.info()"
   ]
  },
  {
   "cell_type": "markdown",
   "id": "f52015dc",
   "metadata": {},
   "source": [
    "pd.DataFrame.dtypes : renvoie les types des colonnes."
   ]
  },
  {
   "cell_type": "code",
   "execution_count": 11,
   "id": "b4e831f3",
   "metadata": {},
   "outputs": [
    {
     "data": {
      "text/plain": [
       "Station          object\n",
       "Air Quality      object\n",
       "Longitude       float64\n",
       "Latitude        float64\n",
       "O3 Hour          object\n",
       "O3 Quality       object\n",
       "O3 Value        float64\n",
       "NO2 Hour         object\n",
       "NO2 Quality      object\n",
       "NO2 Value       float64\n",
       "PM10 Hour        object\n",
       "PM10 Quality     object\n",
       "PM10 Value      float64\n",
       "Generated        object\n",
       "Date Time         int64\n",
       "dtype: object"
      ]
     },
     "execution_count": 11,
     "metadata": {},
     "output_type": "execute_result"
    }
   ],
   "source": [
    "air_quality.dtypes"
   ]
  },
  {
   "cell_type": "markdown",
   "id": "0d0ee08c",
   "metadata": {},
   "source": [
    "### 5a - Valeurs manquantes"
   ]
  },
  {
   "cell_type": "markdown",
   "id": "2b49edb7",
   "metadata": {},
   "source": [
    "pd.DataFrame.isna().sum() : renvoie la somme des valeurs manquantes du dataframe par colonne.\n",
    "* pd.DataFrame.isna() : renvoie le dataframe avec les valeurs manquantes sous forme de booléen (True, False).\n",
    "* pd.DataFrame.sum() : renvoie la somme des valeurs demandées."
   ]
  },
  {
   "cell_type": "code",
   "execution_count": 12,
   "id": "41c37b09",
   "metadata": {},
   "outputs": [
    {
     "data": {
      "text/plain": [
       "Station            0\n",
       "Air Quality        0\n",
       "Longitude          0\n",
       "Latitude           0\n",
       "O3 Hour         1476\n",
       "O3 Quality      1476\n",
       "O3 Value        1643\n",
       "NO2 Hour          55\n",
       "NO2 Quality       55\n",
       "NO2 Value        284\n",
       "PM10 Hour       2022\n",
       "PM10 Quality    2022\n",
       "PM10 Value      2097\n",
       "Generated          0\n",
       "Date Time          0\n",
       "dtype: int64"
      ]
     },
     "execution_count": 12,
     "metadata": {},
     "output_type": "execute_result"
    }
   ],
   "source": [
    "air_quality.isna().sum()"
   ]
  },
  {
   "cell_type": "markdown",
   "id": "9e6c0dd1",
   "metadata": {},
   "source": [
    "### 5b - Valeurs manquantes en pourcentage"
   ]
  },
  {
   "cell_type": "markdown",
   "id": "f2e4e489",
   "metadata": {},
   "source": [
    "pd.DataFrame.isna().mean() : renvoie la part des valeurs manquantes du dataframe par colonne."
   ]
  },
  {
   "cell_type": "code",
   "execution_count": 13,
   "id": "3b293571",
   "metadata": {},
   "outputs": [
    {
     "data": {
      "text/plain": [
       "Station          0.000000\n",
       "Air Quality      0.000000\n",
       "Longitude        0.000000\n",
       "Latitude         0.000000\n",
       "O3 Hour         25.696379\n",
       "O3 Quality      25.696379\n",
       "O3 Value        28.603760\n",
       "NO2 Hour         0.957521\n",
       "NO2 Quality      0.957521\n",
       "NO2 Value        4.944290\n",
       "PM10 Hour       35.201950\n",
       "PM10 Quality    35.201950\n",
       "PM10 Value      36.507660\n",
       "Generated        0.000000\n",
       "Date Time        0.000000\n",
       "dtype: float64"
      ]
     },
     "execution_count": 13,
     "metadata": {},
     "output_type": "execute_result"
    }
   ],
   "source": [
    "air_quality.isna().mean()*100"
   ]
  },
  {
   "cell_type": "markdown",
   "id": "54621435",
   "metadata": {},
   "source": [
    "### 6 - Compter les valeurs par colonne"
   ]
  },
  {
   "cell_type": "markdown",
   "id": "ff99352c",
   "metadata": {},
   "source": [
    "Une colonne d'un dataframe peut être considéré comme une Serie (matrice à une dimension).\n",
    "- pd.Series.value_counts() : renvoie le nombre de valeur par catégorie."
   ]
  },
  {
   "cell_type": "code",
   "execution_count": 14,
   "id": "e95beafa",
   "metadata": {},
   "outputs": [
    {
     "data": {
      "text/plain": [
       "Good        5453\n",
       "--           161\n",
       "Moderate     130\n",
       "Name: Air Quality, dtype: int64"
      ]
     },
     "execution_count": 14,
     "metadata": {},
     "output_type": "execute_result"
    }
   ],
   "source": [
    "air_quality['Air Quality'].value_counts()"
   ]
  },
  {
   "cell_type": "markdown",
   "id": "8faf6a31",
   "metadata": {},
   "source": [
    "### 7 - Le mode ou la valeur la plus fréquente"
   ]
  },
  {
   "cell_type": "markdown",
   "id": "05ca89d3",
   "metadata": {},
   "source": [
    "pd.Series.mode() : renvoie le mode, ou la valeur la plus fréquente de la série."
   ]
  },
  {
   "cell_type": "code",
   "execution_count": 15,
   "id": "444d566e",
   "metadata": {},
   "outputs": [
    {
     "data": {
      "text/plain": [
       "0    Good\n",
       "dtype: object"
      ]
     },
     "execution_count": 15,
     "metadata": {},
     "output_type": "execute_result"
    }
   ],
   "source": [
    "air_quality['Air Quality'].mode()"
   ]
  },
  {
   "cell_type": "code",
   "execution_count": 16,
   "id": "08a5a095",
   "metadata": {},
   "outputs": [
    {
     "name": "stdout",
     "output_type": "stream",
     "text": [
      "La valeur la plus fréquente est ['Good']\n"
     ]
    }
   ],
   "source": [
    "print(\"La valeur la plus fréquente est {}\".format(air_quality['Air Quality'].mode().values))"
   ]
  },
  {
   "cell_type": "markdown",
   "id": "8254d46a",
   "metadata": {},
   "source": [
    "## IV - Preprocessing et transformation"
   ]
  },
  {
   "cell_type": "markdown",
   "id": "28b15742",
   "metadata": {},
   "source": [
    "### 8a - Transformer une colonne date en format datetime"
   ]
  },
  {
   "cell_type": "markdown",
   "id": "75cc2300",
   "metadata": {},
   "source": [
    "pd.to_datetime(pd.Series) : converti la colonne en datetime."
   ]
  },
  {
   "cell_type": "code",
   "execution_count": 17,
   "id": "cc7223ff",
   "metadata": {},
   "outputs": [],
   "source": [
    "air_quality['Date Time'] = pd.to_datetime(air_quality['Date Time'])\n",
    "air_quality['Generated'] = pd.to_datetime(air_quality['Generated'])"
   ]
  },
  {
   "cell_type": "markdown",
   "id": "ce1cf124",
   "metadata": {},
   "source": [
    "### 8b - Modifier le format de la date"
   ]
  },
  {
   "cell_type": "markdown",
   "id": "83a7c6f9",
   "metadata": {},
   "source": [
    "pd.Series.dt.strftime().astype() : converti la date avec le format spécifié.\n",
    "* pd.Series.dt.strftime() : transforme la colonne date en caractère avec le format spécifié.\n",
    "* pd.Series.astype() : converti la série avec le type spécifié."
   ]
  },
  {
   "cell_type": "code",
   "execution_count": 18,
   "id": "5d4750ff",
   "metadata": {},
   "outputs": [],
   "source": [
    "air_quality['Date Time'] = air_quality['Date Time'].dt.strftime('%Y-%m-%d').astype('datetime64[ns]')\n",
    "air_quality['Generated'] = air_quality['Generated'].dt.strftime('%Y-%m-%d').astype('datetime64[ns]')"
   ]
  },
  {
   "cell_type": "markdown",
   "id": "838d6229",
   "metadata": {},
   "source": [
    "NB : Vous pouvez enchainer les deux codes précédents comme :\n",
    "pd.to_datetime(air_quality['Date Time']).dt.strftime('%Y-%m-%d').astype('datetime64[ns]')."
   ]
  },
  {
   "cell_type": "code",
   "execution_count": 19,
   "id": "528d4ce5",
   "metadata": {},
   "outputs": [
    {
     "data": {
      "text/html": [
       "<div>\n",
       "<style scoped>\n",
       "    .dataframe tbody tr th:only-of-type {\n",
       "        vertical-align: middle;\n",
       "    }\n",
       "\n",
       "    .dataframe tbody tr th {\n",
       "        vertical-align: top;\n",
       "    }\n",
       "\n",
       "    .dataframe thead th {\n",
       "        text-align: right;\n",
       "    }\n",
       "</style>\n",
       "<table border=\"1\" class=\"dataframe\">\n",
       "  <thead>\n",
       "    <tr style=\"text-align: right;\">\n",
       "      <th></th>\n",
       "      <th>Station</th>\n",
       "      <th>Air Quality</th>\n",
       "      <th>Longitude</th>\n",
       "      <th>Latitude</th>\n",
       "      <th>O3 Hour</th>\n",
       "      <th>O3 Quality</th>\n",
       "      <th>O3 Value</th>\n",
       "      <th>NO2 Hour</th>\n",
       "      <th>NO2 Quality</th>\n",
       "      <th>NO2 Value</th>\n",
       "      <th>PM10 Hour</th>\n",
       "      <th>PM10 Quality</th>\n",
       "      <th>PM10 Value</th>\n",
       "      <th>Generated</th>\n",
       "      <th>Date Time</th>\n",
       "    </tr>\n",
       "  </thead>\n",
       "  <tbody>\n",
       "    <tr>\n",
       "      <th>0</th>\n",
       "      <td>Barcelona - Sants</td>\n",
       "      <td>Good</td>\n",
       "      <td>2.1331</td>\n",
       "      <td>41.3788</td>\n",
       "      <td>NaN</td>\n",
       "      <td>NaN</td>\n",
       "      <td>NaN</td>\n",
       "      <td>0h</td>\n",
       "      <td>Good</td>\n",
       "      <td>84.0</td>\n",
       "      <td>NaN</td>\n",
       "      <td>NaN</td>\n",
       "      <td>NaN</td>\n",
       "      <td>2018-01-11</td>\n",
       "      <td>1970-01-01</td>\n",
       "    </tr>\n",
       "    <tr>\n",
       "      <th>1</th>\n",
       "      <td>Barcelona - Eixample</td>\n",
       "      <td>Moderate</td>\n",
       "      <td>2.1538</td>\n",
       "      <td>41.3853</td>\n",
       "      <td>0h</td>\n",
       "      <td>Good</td>\n",
       "      <td>1.0</td>\n",
       "      <td>0h</td>\n",
       "      <td>Moderate</td>\n",
       "      <td>113.0</td>\n",
       "      <td>0h</td>\n",
       "      <td>Good</td>\n",
       "      <td>36.0</td>\n",
       "      <td>2018-01-11</td>\n",
       "      <td>1970-01-01</td>\n",
       "    </tr>\n",
       "    <tr>\n",
       "      <th>2</th>\n",
       "      <td>Barcelona - Gràcia</td>\n",
       "      <td>Good</td>\n",
       "      <td>2.1534</td>\n",
       "      <td>41.3987</td>\n",
       "      <td>0h</td>\n",
       "      <td>Good</td>\n",
       "      <td>10.0</td>\n",
       "      <td>0h</td>\n",
       "      <td>Good</td>\n",
       "      <td>73.0</td>\n",
       "      <td>NaN</td>\n",
       "      <td>NaN</td>\n",
       "      <td>NaN</td>\n",
       "      <td>2018-01-11</td>\n",
       "      <td>1970-01-01</td>\n",
       "    </tr>\n",
       "    <tr>\n",
       "      <th>3</th>\n",
       "      <td>Barcelona - Ciutadella</td>\n",
       "      <td>Good</td>\n",
       "      <td>2.1874</td>\n",
       "      <td>41.3864</td>\n",
       "      <td>0h</td>\n",
       "      <td>Good</td>\n",
       "      <td>2.0</td>\n",
       "      <td>0h</td>\n",
       "      <td>Good</td>\n",
       "      <td>86.0</td>\n",
       "      <td>NaN</td>\n",
       "      <td>NaN</td>\n",
       "      <td>NaN</td>\n",
       "      <td>2018-01-11</td>\n",
       "      <td>1970-01-01</td>\n",
       "    </tr>\n",
       "    <tr>\n",
       "      <th>4</th>\n",
       "      <td>Barcelona - Vall Hebron</td>\n",
       "      <td>Good</td>\n",
       "      <td>2.1480</td>\n",
       "      <td>41.4261</td>\n",
       "      <td>0h</td>\n",
       "      <td>Good</td>\n",
       "      <td>7.0</td>\n",
       "      <td>0h</td>\n",
       "      <td>Good</td>\n",
       "      <td>69.0</td>\n",
       "      <td>NaN</td>\n",
       "      <td>NaN</td>\n",
       "      <td>NaN</td>\n",
       "      <td>2018-01-11</td>\n",
       "      <td>1970-01-01</td>\n",
       "    </tr>\n",
       "  </tbody>\n",
       "</table>\n",
       "</div>"
      ],
      "text/plain": [
       "                   Station Air Quality  Longitude  Latitude O3 Hour  \\\n",
       "0        Barcelona - Sants        Good     2.1331   41.3788     NaN   \n",
       "1     Barcelona - Eixample    Moderate     2.1538   41.3853      0h   \n",
       "2       Barcelona - Gràcia        Good     2.1534   41.3987      0h   \n",
       "3   Barcelona - Ciutadella        Good     2.1874   41.3864      0h   \n",
       "4  Barcelona - Vall Hebron        Good     2.1480   41.4261      0h   \n",
       "\n",
       "  O3 Quality  O3 Value NO2 Hour NO2 Quality  NO2 Value PM10 Hour PM10 Quality  \\\n",
       "0        NaN       NaN       0h        Good       84.0       NaN          NaN   \n",
       "1       Good       1.0       0h    Moderate      113.0        0h         Good   \n",
       "2       Good      10.0       0h        Good       73.0       NaN          NaN   \n",
       "3       Good       2.0       0h        Good       86.0       NaN          NaN   \n",
       "4       Good       7.0       0h        Good       69.0       NaN          NaN   \n",
       "\n",
       "   PM10 Value  Generated  Date Time  \n",
       "0         NaN 2018-01-11 1970-01-01  \n",
       "1        36.0 2018-01-11 1970-01-01  \n",
       "2         NaN 2018-01-11 1970-01-01  \n",
       "3         NaN 2018-01-11 1970-01-01  \n",
       "4         NaN 2018-01-11 1970-01-01  "
      ]
     },
     "execution_count": 19,
     "metadata": {},
     "output_type": "execute_result"
    }
   ],
   "source": [
    "air_quality.head()"
   ]
  },
  {
   "cell_type": "markdown",
   "id": "7373d1ab",
   "metadata": {},
   "source": [
    "### 9 - Remplir des valeurs NULL"
   ]
  },
  {
   "cell_type": "markdown",
   "id": "1016b6bc",
   "metadata": {},
   "source": [
    "pd.Series.fillna() : remplir les valeurs manquantes par les valeurs spécifiées.\n",
    "* Ajouter le paramètre 'method' permet de spécifier une méthode de remplissage comme :\n",
    "* 'method = bfill' (rempli les valeurs manquantes avec la valeur suivante valide)\n",
    "* 'method = ffill' (rempli les valeurs manquantes avec la valeur précédente valide)."
   ]
  },
  {
   "cell_type": "code",
   "execution_count": 20,
   "id": "3a5d138e",
   "metadata": {},
   "outputs": [],
   "source": [
    "for c in air_quality.columns:\n",
    "    if c.endswith(\"Value\"):\n",
    "        air_quality[c] = air_quality[c].fillna(0)"
   ]
  },
  {
   "cell_type": "markdown",
   "id": "48f8677e",
   "metadata": {},
   "source": [
    "### 10 - Convertir le type d'une colonne"
   ]
  },
  {
   "cell_type": "markdown",
   "id": "130f94e9",
   "metadata": {},
   "source": [
    "pd.Series.astype() : convertir la série avec le type spécifié."
   ]
  },
  {
   "cell_type": "code",
   "execution_count": 21,
   "id": "85843c41",
   "metadata": {},
   "outputs": [],
   "source": [
    "for c in air_quality.columns:\n",
    "    if c.endswith(\"Value\"):\n",
    "        air_quality[c] = air_quality[c].astype('int')"
   ]
  },
  {
   "cell_type": "code",
   "execution_count": 22,
   "id": "3dc7f971",
   "metadata": {},
   "outputs": [
    {
     "data": {
      "text/html": [
       "<div>\n",
       "<style scoped>\n",
       "    .dataframe tbody tr th:only-of-type {\n",
       "        vertical-align: middle;\n",
       "    }\n",
       "\n",
       "    .dataframe tbody tr th {\n",
       "        vertical-align: top;\n",
       "    }\n",
       "\n",
       "    .dataframe thead th {\n",
       "        text-align: right;\n",
       "    }\n",
       "</style>\n",
       "<table border=\"1\" class=\"dataframe\">\n",
       "  <thead>\n",
       "    <tr style=\"text-align: right;\">\n",
       "      <th></th>\n",
       "      <th>Station</th>\n",
       "      <th>Air Quality</th>\n",
       "      <th>Longitude</th>\n",
       "      <th>Latitude</th>\n",
       "      <th>O3 Hour</th>\n",
       "      <th>O3 Quality</th>\n",
       "      <th>O3 Value</th>\n",
       "      <th>NO2 Hour</th>\n",
       "      <th>NO2 Quality</th>\n",
       "      <th>NO2 Value</th>\n",
       "      <th>PM10 Hour</th>\n",
       "      <th>PM10 Quality</th>\n",
       "      <th>PM10 Value</th>\n",
       "      <th>Generated</th>\n",
       "      <th>Date Time</th>\n",
       "    </tr>\n",
       "  </thead>\n",
       "  <tbody>\n",
       "    <tr>\n",
       "      <th>0</th>\n",
       "      <td>Barcelona - Sants</td>\n",
       "      <td>Good</td>\n",
       "      <td>2.1331</td>\n",
       "      <td>41.3788</td>\n",
       "      <td>NaN</td>\n",
       "      <td>NaN</td>\n",
       "      <td>0</td>\n",
       "      <td>0h</td>\n",
       "      <td>Good</td>\n",
       "      <td>84</td>\n",
       "      <td>NaN</td>\n",
       "      <td>NaN</td>\n",
       "      <td>0</td>\n",
       "      <td>2018-01-11</td>\n",
       "      <td>1970-01-01</td>\n",
       "    </tr>\n",
       "    <tr>\n",
       "      <th>1</th>\n",
       "      <td>Barcelona - Eixample</td>\n",
       "      <td>Moderate</td>\n",
       "      <td>2.1538</td>\n",
       "      <td>41.3853</td>\n",
       "      <td>0h</td>\n",
       "      <td>Good</td>\n",
       "      <td>1</td>\n",
       "      <td>0h</td>\n",
       "      <td>Moderate</td>\n",
       "      <td>113</td>\n",
       "      <td>0h</td>\n",
       "      <td>Good</td>\n",
       "      <td>36</td>\n",
       "      <td>2018-01-11</td>\n",
       "      <td>1970-01-01</td>\n",
       "    </tr>\n",
       "    <tr>\n",
       "      <th>2</th>\n",
       "      <td>Barcelona - Gràcia</td>\n",
       "      <td>Good</td>\n",
       "      <td>2.1534</td>\n",
       "      <td>41.3987</td>\n",
       "      <td>0h</td>\n",
       "      <td>Good</td>\n",
       "      <td>10</td>\n",
       "      <td>0h</td>\n",
       "      <td>Good</td>\n",
       "      <td>73</td>\n",
       "      <td>NaN</td>\n",
       "      <td>NaN</td>\n",
       "      <td>0</td>\n",
       "      <td>2018-01-11</td>\n",
       "      <td>1970-01-01</td>\n",
       "    </tr>\n",
       "    <tr>\n",
       "      <th>3</th>\n",
       "      <td>Barcelona - Ciutadella</td>\n",
       "      <td>Good</td>\n",
       "      <td>2.1874</td>\n",
       "      <td>41.3864</td>\n",
       "      <td>0h</td>\n",
       "      <td>Good</td>\n",
       "      <td>2</td>\n",
       "      <td>0h</td>\n",
       "      <td>Good</td>\n",
       "      <td>86</td>\n",
       "      <td>NaN</td>\n",
       "      <td>NaN</td>\n",
       "      <td>0</td>\n",
       "      <td>2018-01-11</td>\n",
       "      <td>1970-01-01</td>\n",
       "    </tr>\n",
       "    <tr>\n",
       "      <th>4</th>\n",
       "      <td>Barcelona - Vall Hebron</td>\n",
       "      <td>Good</td>\n",
       "      <td>2.1480</td>\n",
       "      <td>41.4261</td>\n",
       "      <td>0h</td>\n",
       "      <td>Good</td>\n",
       "      <td>7</td>\n",
       "      <td>0h</td>\n",
       "      <td>Good</td>\n",
       "      <td>69</td>\n",
       "      <td>NaN</td>\n",
       "      <td>NaN</td>\n",
       "      <td>0</td>\n",
       "      <td>2018-01-11</td>\n",
       "      <td>1970-01-01</td>\n",
       "    </tr>\n",
       "  </tbody>\n",
       "</table>\n",
       "</div>"
      ],
      "text/plain": [
       "                   Station Air Quality  Longitude  Latitude O3 Hour  \\\n",
       "0        Barcelona - Sants        Good     2.1331   41.3788     NaN   \n",
       "1     Barcelona - Eixample    Moderate     2.1538   41.3853      0h   \n",
       "2       Barcelona - Gràcia        Good     2.1534   41.3987      0h   \n",
       "3   Barcelona - Ciutadella        Good     2.1874   41.3864      0h   \n",
       "4  Barcelona - Vall Hebron        Good     2.1480   41.4261      0h   \n",
       "\n",
       "  O3 Quality  O3 Value NO2 Hour NO2 Quality  NO2 Value PM10 Hour PM10 Quality  \\\n",
       "0        NaN         0       0h        Good         84       NaN          NaN   \n",
       "1       Good         1       0h    Moderate        113        0h         Good   \n",
       "2       Good        10       0h        Good         73       NaN          NaN   \n",
       "3       Good         2       0h        Good         86       NaN          NaN   \n",
       "4       Good         7       0h        Good         69       NaN          NaN   \n",
       "\n",
       "   PM10 Value  Generated  Date Time  \n",
       "0           0 2018-01-11 1970-01-01  \n",
       "1          36 2018-01-11 1970-01-01  \n",
       "2           0 2018-01-11 1970-01-01  \n",
       "3           0 2018-01-11 1970-01-01  \n",
       "4           0 2018-01-11 1970-01-01  "
      ]
     },
     "execution_count": 22,
     "metadata": {},
     "output_type": "execute_result"
    }
   ],
   "source": [
    "air_quality.head()"
   ]
  },
  {
   "cell_type": "code",
   "execution_count": 23,
   "id": "1cc2cd31",
   "metadata": {},
   "outputs": [
    {
     "data": {
      "text/plain": [
       "Station                 object\n",
       "Air Quality             object\n",
       "Longitude              float64\n",
       "Latitude               float64\n",
       "O3 Hour                 object\n",
       "O3 Quality              object\n",
       "O3 Value                 int32\n",
       "NO2 Hour                object\n",
       "NO2 Quality             object\n",
       "NO2 Value                int32\n",
       "PM10 Hour               object\n",
       "PM10 Quality            object\n",
       "PM10 Value               int32\n",
       "Generated       datetime64[ns]\n",
       "Date Time       datetime64[ns]\n",
       "dtype: object"
      ]
     },
     "execution_count": 23,
     "metadata": {},
     "output_type": "execute_result"
    }
   ],
   "source": [
    "air_quality.dtypes"
   ]
  },
  {
   "cell_type": "markdown",
   "id": "bbdfc6d7",
   "metadata": {},
   "source": [
    "### 11 - Remplacer des valeurs"
   ]
  },
  {
   "cell_type": "markdown",
   "id": "4cb8a427",
   "metadata": {},
   "source": [
    "pd.Series.replace() : remplace les valeurs spécifiées (valeurs avant, valeurs après).\n",
    "* Ajouter le paramètre 'method' permet de spécifier une méthode de remplacement comme :\n",
    "* 'method = bfill' (remplace les valeurs avec la valeur suivante valide)\n",
    "* 'method = ffill' (remplace les valeurs avec la valeur précédente valide)."
   ]
  },
  {
   "cell_type": "code",
   "execution_count": 24,
   "id": "04ba2075",
   "metadata": {},
   "outputs": [],
   "source": [
    "replace_values = {'Good' : 2, 'Moderate' : 1, '--' : 0 }\n",
    "air_quality['Air Quality'] = air_quality['Air Quality'].replace(replace_values)"
   ]
  },
  {
   "cell_type": "code",
   "execution_count": 25,
   "id": "86bc8d63",
   "metadata": {},
   "outputs": [
    {
     "data": {
      "text/html": [
       "<div>\n",
       "<style scoped>\n",
       "    .dataframe tbody tr th:only-of-type {\n",
       "        vertical-align: middle;\n",
       "    }\n",
       "\n",
       "    .dataframe tbody tr th {\n",
       "        vertical-align: top;\n",
       "    }\n",
       "\n",
       "    .dataframe thead th {\n",
       "        text-align: right;\n",
       "    }\n",
       "</style>\n",
       "<table border=\"1\" class=\"dataframe\">\n",
       "  <thead>\n",
       "    <tr style=\"text-align: right;\">\n",
       "      <th></th>\n",
       "      <th>Station</th>\n",
       "      <th>Air Quality</th>\n",
       "      <th>Longitude</th>\n",
       "      <th>Latitude</th>\n",
       "      <th>O3 Hour</th>\n",
       "      <th>O3 Quality</th>\n",
       "      <th>O3 Value</th>\n",
       "      <th>NO2 Hour</th>\n",
       "      <th>NO2 Quality</th>\n",
       "      <th>NO2 Value</th>\n",
       "      <th>PM10 Hour</th>\n",
       "      <th>PM10 Quality</th>\n",
       "      <th>PM10 Value</th>\n",
       "      <th>Generated</th>\n",
       "      <th>Date Time</th>\n",
       "    </tr>\n",
       "  </thead>\n",
       "  <tbody>\n",
       "    <tr>\n",
       "      <th>0</th>\n",
       "      <td>Barcelona - Sants</td>\n",
       "      <td>2</td>\n",
       "      <td>2.1331</td>\n",
       "      <td>41.3788</td>\n",
       "      <td>NaN</td>\n",
       "      <td>NaN</td>\n",
       "      <td>0</td>\n",
       "      <td>0h</td>\n",
       "      <td>Good</td>\n",
       "      <td>84</td>\n",
       "      <td>NaN</td>\n",
       "      <td>NaN</td>\n",
       "      <td>0</td>\n",
       "      <td>2018-01-11</td>\n",
       "      <td>1970-01-01</td>\n",
       "    </tr>\n",
       "    <tr>\n",
       "      <th>1</th>\n",
       "      <td>Barcelona - Eixample</td>\n",
       "      <td>1</td>\n",
       "      <td>2.1538</td>\n",
       "      <td>41.3853</td>\n",
       "      <td>0h</td>\n",
       "      <td>Good</td>\n",
       "      <td>1</td>\n",
       "      <td>0h</td>\n",
       "      <td>Moderate</td>\n",
       "      <td>113</td>\n",
       "      <td>0h</td>\n",
       "      <td>Good</td>\n",
       "      <td>36</td>\n",
       "      <td>2018-01-11</td>\n",
       "      <td>1970-01-01</td>\n",
       "    </tr>\n",
       "    <tr>\n",
       "      <th>2</th>\n",
       "      <td>Barcelona - Gràcia</td>\n",
       "      <td>2</td>\n",
       "      <td>2.1534</td>\n",
       "      <td>41.3987</td>\n",
       "      <td>0h</td>\n",
       "      <td>Good</td>\n",
       "      <td>10</td>\n",
       "      <td>0h</td>\n",
       "      <td>Good</td>\n",
       "      <td>73</td>\n",
       "      <td>NaN</td>\n",
       "      <td>NaN</td>\n",
       "      <td>0</td>\n",
       "      <td>2018-01-11</td>\n",
       "      <td>1970-01-01</td>\n",
       "    </tr>\n",
       "    <tr>\n",
       "      <th>3</th>\n",
       "      <td>Barcelona - Ciutadella</td>\n",
       "      <td>2</td>\n",
       "      <td>2.1874</td>\n",
       "      <td>41.3864</td>\n",
       "      <td>0h</td>\n",
       "      <td>Good</td>\n",
       "      <td>2</td>\n",
       "      <td>0h</td>\n",
       "      <td>Good</td>\n",
       "      <td>86</td>\n",
       "      <td>NaN</td>\n",
       "      <td>NaN</td>\n",
       "      <td>0</td>\n",
       "      <td>2018-01-11</td>\n",
       "      <td>1970-01-01</td>\n",
       "    </tr>\n",
       "    <tr>\n",
       "      <th>4</th>\n",
       "      <td>Barcelona - Vall Hebron</td>\n",
       "      <td>2</td>\n",
       "      <td>2.1480</td>\n",
       "      <td>41.4261</td>\n",
       "      <td>0h</td>\n",
       "      <td>Good</td>\n",
       "      <td>7</td>\n",
       "      <td>0h</td>\n",
       "      <td>Good</td>\n",
       "      <td>69</td>\n",
       "      <td>NaN</td>\n",
       "      <td>NaN</td>\n",
       "      <td>0</td>\n",
       "      <td>2018-01-11</td>\n",
       "      <td>1970-01-01</td>\n",
       "    </tr>\n",
       "  </tbody>\n",
       "</table>\n",
       "</div>"
      ],
      "text/plain": [
       "                   Station  Air Quality  Longitude  Latitude O3 Hour  \\\n",
       "0        Barcelona - Sants            2     2.1331   41.3788     NaN   \n",
       "1     Barcelona - Eixample            1     2.1538   41.3853      0h   \n",
       "2       Barcelona - Gràcia            2     2.1534   41.3987      0h   \n",
       "3   Barcelona - Ciutadella            2     2.1874   41.3864      0h   \n",
       "4  Barcelona - Vall Hebron            2     2.1480   41.4261      0h   \n",
       "\n",
       "  O3 Quality  O3 Value NO2 Hour NO2 Quality  NO2 Value PM10 Hour PM10 Quality  \\\n",
       "0        NaN         0       0h        Good         84       NaN          NaN   \n",
       "1       Good         1       0h    Moderate        113        0h         Good   \n",
       "2       Good        10       0h        Good         73       NaN          NaN   \n",
       "3       Good         2       0h        Good         86       NaN          NaN   \n",
       "4       Good         7       0h        Good         69       NaN          NaN   \n",
       "\n",
       "   PM10 Value  Generated  Date Time  \n",
       "0           0 2018-01-11 1970-01-01  \n",
       "1          36 2018-01-11 1970-01-01  \n",
       "2           0 2018-01-11 1970-01-01  \n",
       "3           0 2018-01-11 1970-01-01  \n",
       "4           0 2018-01-11 1970-01-01  "
      ]
     },
     "execution_count": 25,
     "metadata": {},
     "output_type": "execute_result"
    }
   ],
   "source": [
    "air_quality.head()"
   ]
  },
  {
   "cell_type": "code",
   "execution_count": 26,
   "id": "429093b8",
   "metadata": {},
   "outputs": [
    {
     "data": {
      "text/plain": [
       "2    5453\n",
       "0     161\n",
       "1     130\n",
       "Name: Air Quality, dtype: int64"
      ]
     },
     "execution_count": 26,
     "metadata": {},
     "output_type": "execute_result"
    }
   ],
   "source": [
    "air_quality['Air Quality'].value_counts()"
   ]
  },
  {
   "cell_type": "code",
   "execution_count": 27,
   "id": "59f454c2",
   "metadata": {},
   "outputs": [
    {
     "name": "stdout",
     "output_type": "stream",
     "text": [
      "Sur une échelle de 0 à 2, la qualité de l'air à Barcelone est de 1.92\n"
     ]
    }
   ],
   "source": [
    "print(\"Sur une échelle de 0 à 2, la qualité de l'air à Barcelone est de {:.2f}\"\\\n",
    "      .format(air_quality['Air Quality'].mean()))"
   ]
  },
  {
   "cell_type": "markdown",
   "id": "dfc998e0",
   "metadata": {},
   "source": [
    "### 12 - Groupby"
   ]
  },
  {
   "cell_type": "markdown",
   "id": "9879db64",
   "metadata": {},
   "source": [
    "* pd.DataFrame.groupby() : modifie le dataframe pour calculer des agrégats en fonction de la valeur de groupement.\n",
    "* pd.DataFrame.agg() : calcule des agrégats à l'aide d'un dictionnaire {'colonne':'agrégat'}.\n",
    "* pd.DataFrame.sort_values() : trie les valeurs de sortie par la colonne spécifiée."
   ]
  },
  {
   "cell_type": "code",
   "execution_count": 28,
   "id": "1f5ca98e",
   "metadata": {},
   "outputs": [
    {
     "data": {
      "text/html": [
       "<div>\n",
       "<style scoped>\n",
       "    .dataframe tbody tr th:only-of-type {\n",
       "        vertical-align: middle;\n",
       "    }\n",
       "\n",
       "    .dataframe tbody tr th {\n",
       "        vertical-align: top;\n",
       "    }\n",
       "\n",
       "    .dataframe thead th {\n",
       "        text-align: right;\n",
       "    }\n",
       "</style>\n",
       "<table border=\"1\" class=\"dataframe\">\n",
       "  <thead>\n",
       "    <tr style=\"text-align: right;\">\n",
       "      <th></th>\n",
       "      <th>Air Quality</th>\n",
       "    </tr>\n",
       "    <tr>\n",
       "      <th>Station</th>\n",
       "      <th></th>\n",
       "    </tr>\n",
       "  </thead>\n",
       "  <tbody>\n",
       "    <tr>\n",
       "      <th>Barcelona - Vall Hebron</th>\n",
       "      <td>1.994429</td>\n",
       "    </tr>\n",
       "    <tr>\n",
       "      <th>Barcelona - Palau Reial</th>\n",
       "      <td>1.981894</td>\n",
       "    </tr>\n",
       "    <tr>\n",
       "      <th>Barcelona - Observ Fabra</th>\n",
       "      <td>1.977716</td>\n",
       "    </tr>\n",
       "    <tr>\n",
       "      <th>Barcelona - Ciutadella</th>\n",
       "      <td>1.952646</td>\n",
       "    </tr>\n",
       "    <tr>\n",
       "      <th>Barcelona - Poblenou</th>\n",
       "      <td>1.924791</td>\n",
       "    </tr>\n",
       "    <tr>\n",
       "      <th>Barcelona - Eixample</th>\n",
       "      <td>1.884401</td>\n",
       "    </tr>\n",
       "    <tr>\n",
       "      <th>Barcelona - Sants</th>\n",
       "      <td>1.869081</td>\n",
       "    </tr>\n",
       "    <tr>\n",
       "      <th>Barcelona - Gràcia</th>\n",
       "      <td>1.785515</td>\n",
       "    </tr>\n",
       "  </tbody>\n",
       "</table>\n",
       "</div>"
      ],
      "text/plain": [
       "                          Air Quality\n",
       "Station                              \n",
       "Barcelona - Vall Hebron      1.994429\n",
       "Barcelona - Palau Reial      1.981894\n",
       "Barcelona - Observ Fabra     1.977716\n",
       "Barcelona - Ciutadella       1.952646\n",
       "Barcelona - Poblenou         1.924791\n",
       "Barcelona - Eixample         1.884401\n",
       "Barcelona - Sants            1.869081\n",
       "Barcelona - Gràcia           1.785515"
      ]
     },
     "execution_count": 28,
     "metadata": {},
     "output_type": "execute_result"
    }
   ],
   "source": [
    "air_qua_station = air_quality.groupby('Station')\\\n",
    ".agg({'Air Quality' : 'mean'})\\\n",
    ".sort_values(by = 'Air Quality', ascending=False)\n",
    "\n",
    "air_qua_station"
   ]
  },
  {
   "cell_type": "markdown",
   "id": "a47e908c",
   "metadata": {},
   "source": [
    "#### Ou bien"
   ]
  },
  {
   "cell_type": "code",
   "execution_count": 29,
   "id": "5d7d1b29",
   "metadata": {},
   "outputs": [
    {
     "data": {
      "text/html": [
       "<div>\n",
       "<style scoped>\n",
       "    .dataframe tbody tr th:only-of-type {\n",
       "        vertical-align: middle;\n",
       "    }\n",
       "\n",
       "    .dataframe tbody tr th {\n",
       "        vertical-align: top;\n",
       "    }\n",
       "\n",
       "    .dataframe thead th {\n",
       "        text-align: right;\n",
       "    }\n",
       "</style>\n",
       "<table border=\"1\" class=\"dataframe\">\n",
       "  <thead>\n",
       "    <tr style=\"text-align: right;\">\n",
       "      <th></th>\n",
       "      <th>Air Quality</th>\n",
       "    </tr>\n",
       "    <tr>\n",
       "      <th>Station</th>\n",
       "      <th></th>\n",
       "    </tr>\n",
       "  </thead>\n",
       "  <tbody>\n",
       "    <tr>\n",
       "      <th>Barcelona - Vall Hebron</th>\n",
       "      <td>1.994429</td>\n",
       "    </tr>\n",
       "    <tr>\n",
       "      <th>Barcelona - Palau Reial</th>\n",
       "      <td>1.981894</td>\n",
       "    </tr>\n",
       "    <tr>\n",
       "      <th>Barcelona - Observ Fabra</th>\n",
       "      <td>1.977716</td>\n",
       "    </tr>\n",
       "    <tr>\n",
       "      <th>Barcelona - Ciutadella</th>\n",
       "      <td>1.952646</td>\n",
       "    </tr>\n",
       "    <tr>\n",
       "      <th>Barcelona - Poblenou</th>\n",
       "      <td>1.924791</td>\n",
       "    </tr>\n",
       "    <tr>\n",
       "      <th>Barcelona - Eixample</th>\n",
       "      <td>1.884401</td>\n",
       "    </tr>\n",
       "    <tr>\n",
       "      <th>Barcelona - Sants</th>\n",
       "      <td>1.869081</td>\n",
       "    </tr>\n",
       "    <tr>\n",
       "      <th>Barcelona - Gràcia</th>\n",
       "      <td>1.785515</td>\n",
       "    </tr>\n",
       "  </tbody>\n",
       "</table>\n",
       "</div>"
      ],
      "text/plain": [
       "                          Air Quality\n",
       "Station                              \n",
       "Barcelona - Vall Hebron      1.994429\n",
       "Barcelona - Palau Reial      1.981894\n",
       "Barcelona - Observ Fabra     1.977716\n",
       "Barcelona - Ciutadella       1.952646\n",
       "Barcelona - Poblenou         1.924791\n",
       "Barcelona - Eixample         1.884401\n",
       "Barcelona - Sants            1.869081\n",
       "Barcelona - Gràcia           1.785515"
      ]
     },
     "execution_count": 29,
     "metadata": {},
     "output_type": "execute_result"
    }
   ],
   "source": [
    "air_quality[['Station', 'Air Quality']].groupby('Station').mean().sort_values(by = 'Air Quality', ascending=False)"
   ]
  },
  {
   "cell_type": "markdown",
   "id": "67149ced",
   "metadata": {},
   "source": [
    "### 13a1 - Filtrer un dataframe : lignes"
   ]
  },
  {
   "cell_type": "markdown",
   "id": "775ca29e",
   "metadata": {},
   "source": [
    "pd.DataFrame.loc() : filtre le dataframe avec les arguments spécifiés [lignes, colonnes]\n",
    "* pd.DataFrame.set_index() : transforme la colonne spécifiée en indice.\n",
    "* pd.DataFrame.reset_index() : réinitialise les indices pour retrouver la forme d'origine."
   ]
  },
  {
   "cell_type": "code",
   "execution_count": 30,
   "id": "8139c396",
   "metadata": {},
   "outputs": [
    {
     "data": {
      "text/html": [
       "<div>\n",
       "<style scoped>\n",
       "    .dataframe tbody tr th:only-of-type {\n",
       "        vertical-align: middle;\n",
       "    }\n",
       "\n",
       "    .dataframe tbody tr th {\n",
       "        vertical-align: top;\n",
       "    }\n",
       "\n",
       "    .dataframe thead th {\n",
       "        text-align: right;\n",
       "    }\n",
       "</style>\n",
       "<table border=\"1\" class=\"dataframe\">\n",
       "  <thead>\n",
       "    <tr style=\"text-align: right;\">\n",
       "      <th></th>\n",
       "      <th>Station</th>\n",
       "      <th>Air Quality</th>\n",
       "      <th>Longitude</th>\n",
       "      <th>Latitude</th>\n",
       "      <th>O3 Hour</th>\n",
       "      <th>O3 Quality</th>\n",
       "      <th>O3 Value</th>\n",
       "      <th>NO2 Hour</th>\n",
       "      <th>NO2 Quality</th>\n",
       "      <th>NO2 Value</th>\n",
       "      <th>PM10 Hour</th>\n",
       "      <th>PM10 Quality</th>\n",
       "      <th>PM10 Value</th>\n",
       "      <th>Generated</th>\n",
       "      <th>Date Time</th>\n",
       "    </tr>\n",
       "  </thead>\n",
       "  <tbody>\n",
       "    <tr>\n",
       "      <th>0</th>\n",
       "      <td>Barcelona - Ciutadella</td>\n",
       "      <td>2</td>\n",
       "      <td>2.1874</td>\n",
       "      <td>41.3864</td>\n",
       "      <td>0h</td>\n",
       "      <td>Good</td>\n",
       "      <td>2</td>\n",
       "      <td>0h</td>\n",
       "      <td>Good</td>\n",
       "      <td>86</td>\n",
       "      <td>NaN</td>\n",
       "      <td>NaN</td>\n",
       "      <td>0</td>\n",
       "      <td>2018-01-11</td>\n",
       "      <td>1970-01-01</td>\n",
       "    </tr>\n",
       "    <tr>\n",
       "      <th>1</th>\n",
       "      <td>Barcelona - Ciutadella</td>\n",
       "      <td>2</td>\n",
       "      <td>2.1874</td>\n",
       "      <td>41.3864</td>\n",
       "      <td>0h</td>\n",
       "      <td>Good</td>\n",
       "      <td>4</td>\n",
       "      <td>0h</td>\n",
       "      <td>Good</td>\n",
       "      <td>78</td>\n",
       "      <td>NaN</td>\n",
       "      <td>NaN</td>\n",
       "      <td>0</td>\n",
       "      <td>2018-01-11</td>\n",
       "      <td>1970-01-01</td>\n",
       "    </tr>\n",
       "    <tr>\n",
       "      <th>2</th>\n",
       "      <td>Barcelona - Ciutadella</td>\n",
       "      <td>2</td>\n",
       "      <td>2.1874</td>\n",
       "      <td>41.3864</td>\n",
       "      <td>1h</td>\n",
       "      <td>Good</td>\n",
       "      <td>24</td>\n",
       "      <td>1h</td>\n",
       "      <td>Good</td>\n",
       "      <td>56</td>\n",
       "      <td>NaN</td>\n",
       "      <td>NaN</td>\n",
       "      <td>0</td>\n",
       "      <td>2018-01-11</td>\n",
       "      <td>1970-01-01</td>\n",
       "    </tr>\n",
       "    <tr>\n",
       "      <th>3</th>\n",
       "      <td>Barcelona - Ciutadella</td>\n",
       "      <td>2</td>\n",
       "      <td>2.1874</td>\n",
       "      <td>41.3864</td>\n",
       "      <td>2h</td>\n",
       "      <td>Good</td>\n",
       "      <td>45</td>\n",
       "      <td>2h</td>\n",
       "      <td>Good</td>\n",
       "      <td>29</td>\n",
       "      <td>NaN</td>\n",
       "      <td>NaN</td>\n",
       "      <td>0</td>\n",
       "      <td>2018-01-11</td>\n",
       "      <td>1970-01-01</td>\n",
       "    </tr>\n",
       "    <tr>\n",
       "      <th>4</th>\n",
       "      <td>Barcelona - Ciutadella</td>\n",
       "      <td>2</td>\n",
       "      <td>2.1874</td>\n",
       "      <td>41.3864</td>\n",
       "      <td>3h</td>\n",
       "      <td>Good</td>\n",
       "      <td>61</td>\n",
       "      <td>3h</td>\n",
       "      <td>Good</td>\n",
       "      <td>19</td>\n",
       "      <td>NaN</td>\n",
       "      <td>NaN</td>\n",
       "      <td>0</td>\n",
       "      <td>2018-01-11</td>\n",
       "      <td>1970-01-01</td>\n",
       "    </tr>\n",
       "  </tbody>\n",
       "</table>\n",
       "</div>"
      ],
      "text/plain": [
       "                  Station  Air Quality  Longitude  Latitude O3 Hour  \\\n",
       "0  Barcelona - Ciutadella            2     2.1874   41.3864      0h   \n",
       "1  Barcelona - Ciutadella            2     2.1874   41.3864      0h   \n",
       "2  Barcelona - Ciutadella            2     2.1874   41.3864      1h   \n",
       "3  Barcelona - Ciutadella            2     2.1874   41.3864      2h   \n",
       "4  Barcelona - Ciutadella            2     2.1874   41.3864      3h   \n",
       "\n",
       "  O3 Quality  O3 Value NO2 Hour NO2 Quality  NO2 Value PM10 Hour PM10 Quality  \\\n",
       "0       Good         2       0h        Good         86       NaN          NaN   \n",
       "1       Good         4       0h        Good         78       NaN          NaN   \n",
       "2       Good        24       1h        Good         56       NaN          NaN   \n",
       "3       Good        45       2h        Good         29       NaN          NaN   \n",
       "4       Good        61       3h        Good         19       NaN          NaN   \n",
       "\n",
       "   PM10 Value  Generated  Date Time  \n",
       "0           0 2018-01-11 1970-01-01  \n",
       "1           0 2018-01-11 1970-01-01  \n",
       "2           0 2018-01-11 1970-01-01  \n",
       "3           0 2018-01-11 1970-01-01  \n",
       "4           0 2018-01-11 1970-01-01  "
      ]
     },
     "execution_count": 30,
     "metadata": {},
     "output_type": "execute_result"
    }
   ],
   "source": [
    "air_quality.set_index('Station').loc[\"Barcelona - Ciutadella\",:].reset_index().head()"
   ]
  },
  {
   "cell_type": "markdown",
   "id": "6e4984f9",
   "metadata": {},
   "source": [
    "### 13a2 - Filtrer un dataframe : lignes"
   ]
  },
  {
   "cell_type": "markdown",
   "id": "a77ca871",
   "metadata": {},
   "source": [
    "pd.DataFrame.query() : crée une requête à l'aide d'une expression booléenne pour filtrer le dataframe."
   ]
  },
  {
   "cell_type": "code",
   "execution_count": 31,
   "id": "cc446d73",
   "metadata": {},
   "outputs": [
    {
     "data": {
      "text/html": [
       "<div>\n",
       "<style scoped>\n",
       "    .dataframe tbody tr th:only-of-type {\n",
       "        vertical-align: middle;\n",
       "    }\n",
       "\n",
       "    .dataframe tbody tr th {\n",
       "        vertical-align: top;\n",
       "    }\n",
       "\n",
       "    .dataframe thead th {\n",
       "        text-align: right;\n",
       "    }\n",
       "</style>\n",
       "<table border=\"1\" class=\"dataframe\">\n",
       "  <thead>\n",
       "    <tr style=\"text-align: right;\">\n",
       "      <th></th>\n",
       "      <th>Station</th>\n",
       "      <th>Air Quality</th>\n",
       "      <th>Longitude</th>\n",
       "      <th>Latitude</th>\n",
       "      <th>O3 Hour</th>\n",
       "      <th>O3 Quality</th>\n",
       "      <th>O3 Value</th>\n",
       "      <th>NO2 Hour</th>\n",
       "      <th>NO2 Quality</th>\n",
       "      <th>NO2 Value</th>\n",
       "      <th>PM10 Hour</th>\n",
       "      <th>PM10 Quality</th>\n",
       "      <th>PM10 Value</th>\n",
       "      <th>Generated</th>\n",
       "      <th>Date Time</th>\n",
       "    </tr>\n",
       "  </thead>\n",
       "  <tbody>\n",
       "    <tr>\n",
       "      <th>3</th>\n",
       "      <td>Barcelona - Ciutadella</td>\n",
       "      <td>2</td>\n",
       "      <td>2.1874</td>\n",
       "      <td>41.3864</td>\n",
       "      <td>0h</td>\n",
       "      <td>Good</td>\n",
       "      <td>2</td>\n",
       "      <td>0h</td>\n",
       "      <td>Good</td>\n",
       "      <td>86</td>\n",
       "      <td>NaN</td>\n",
       "      <td>NaN</td>\n",
       "      <td>0</td>\n",
       "      <td>2018-01-11</td>\n",
       "      <td>1970-01-01</td>\n",
       "    </tr>\n",
       "    <tr>\n",
       "      <th>11</th>\n",
       "      <td>Barcelona - Ciutadella</td>\n",
       "      <td>2</td>\n",
       "      <td>2.1874</td>\n",
       "      <td>41.3864</td>\n",
       "      <td>0h</td>\n",
       "      <td>Good</td>\n",
       "      <td>4</td>\n",
       "      <td>0h</td>\n",
       "      <td>Good</td>\n",
       "      <td>78</td>\n",
       "      <td>NaN</td>\n",
       "      <td>NaN</td>\n",
       "      <td>0</td>\n",
       "      <td>2018-01-11</td>\n",
       "      <td>1970-01-01</td>\n",
       "    </tr>\n",
       "    <tr>\n",
       "      <th>19</th>\n",
       "      <td>Barcelona - Ciutadella</td>\n",
       "      <td>2</td>\n",
       "      <td>2.1874</td>\n",
       "      <td>41.3864</td>\n",
       "      <td>1h</td>\n",
       "      <td>Good</td>\n",
       "      <td>24</td>\n",
       "      <td>1h</td>\n",
       "      <td>Good</td>\n",
       "      <td>56</td>\n",
       "      <td>NaN</td>\n",
       "      <td>NaN</td>\n",
       "      <td>0</td>\n",
       "      <td>2018-01-11</td>\n",
       "      <td>1970-01-01</td>\n",
       "    </tr>\n",
       "    <tr>\n",
       "      <th>27</th>\n",
       "      <td>Barcelona - Ciutadella</td>\n",
       "      <td>2</td>\n",
       "      <td>2.1874</td>\n",
       "      <td>41.3864</td>\n",
       "      <td>2h</td>\n",
       "      <td>Good</td>\n",
       "      <td>45</td>\n",
       "      <td>2h</td>\n",
       "      <td>Good</td>\n",
       "      <td>29</td>\n",
       "      <td>NaN</td>\n",
       "      <td>NaN</td>\n",
       "      <td>0</td>\n",
       "      <td>2018-01-11</td>\n",
       "      <td>1970-01-01</td>\n",
       "    </tr>\n",
       "    <tr>\n",
       "      <th>35</th>\n",
       "      <td>Barcelona - Ciutadella</td>\n",
       "      <td>2</td>\n",
       "      <td>2.1874</td>\n",
       "      <td>41.3864</td>\n",
       "      <td>3h</td>\n",
       "      <td>Good</td>\n",
       "      <td>61</td>\n",
       "      <td>3h</td>\n",
       "      <td>Good</td>\n",
       "      <td>19</td>\n",
       "      <td>NaN</td>\n",
       "      <td>NaN</td>\n",
       "      <td>0</td>\n",
       "      <td>2018-01-11</td>\n",
       "      <td>1970-01-01</td>\n",
       "    </tr>\n",
       "  </tbody>\n",
       "</table>\n",
       "</div>"
      ],
      "text/plain": [
       "                   Station  Air Quality  Longitude  Latitude O3 Hour  \\\n",
       "3   Barcelona - Ciutadella            2     2.1874   41.3864      0h   \n",
       "11  Barcelona - Ciutadella            2     2.1874   41.3864      0h   \n",
       "19  Barcelona - Ciutadella            2     2.1874   41.3864      1h   \n",
       "27  Barcelona - Ciutadella            2     2.1874   41.3864      2h   \n",
       "35  Barcelona - Ciutadella            2     2.1874   41.3864      3h   \n",
       "\n",
       "   O3 Quality  O3 Value NO2 Hour NO2 Quality  NO2 Value PM10 Hour  \\\n",
       "3        Good         2       0h        Good         86       NaN   \n",
       "11       Good         4       0h        Good         78       NaN   \n",
       "19       Good        24       1h        Good         56       NaN   \n",
       "27       Good        45       2h        Good         29       NaN   \n",
       "35       Good        61       3h        Good         19       NaN   \n",
       "\n",
       "   PM10 Quality  PM10 Value  Generated  Date Time  \n",
       "3           NaN           0 2018-01-11 1970-01-01  \n",
       "11          NaN           0 2018-01-11 1970-01-01  \n",
       "19          NaN           0 2018-01-11 1970-01-01  \n",
       "27          NaN           0 2018-01-11 1970-01-01  \n",
       "35          NaN           0 2018-01-11 1970-01-01  "
      ]
     },
     "execution_count": 31,
     "metadata": {},
     "output_type": "execute_result"
    }
   ],
   "source": [
    "air_quality.query(\"Station == 'Barcelona - Ciutadella'\").head()"
   ]
  },
  {
   "cell_type": "markdown",
   "id": "fd7037c5",
   "metadata": {},
   "source": [
    "### 13a3 - Filtrer un dataframe : lignes"
   ]
  },
  {
   "cell_type": "markdown",
   "id": "76551951",
   "metadata": {},
   "source": [
    "pd.DataFrame[booléen] : cette méthode permet de filtrer un dataframe avec une expression booléenne."
   ]
  },
  {
   "cell_type": "code",
   "execution_count": 32,
   "id": "c18a5cc9",
   "metadata": {},
   "outputs": [
    {
     "data": {
      "text/html": [
       "<div>\n",
       "<style scoped>\n",
       "    .dataframe tbody tr th:only-of-type {\n",
       "        vertical-align: middle;\n",
       "    }\n",
       "\n",
       "    .dataframe tbody tr th {\n",
       "        vertical-align: top;\n",
       "    }\n",
       "\n",
       "    .dataframe thead th {\n",
       "        text-align: right;\n",
       "    }\n",
       "</style>\n",
       "<table border=\"1\" class=\"dataframe\">\n",
       "  <thead>\n",
       "    <tr style=\"text-align: right;\">\n",
       "      <th></th>\n",
       "      <th>Station</th>\n",
       "      <th>Air Quality</th>\n",
       "      <th>Longitude</th>\n",
       "      <th>Latitude</th>\n",
       "      <th>O3 Hour</th>\n",
       "      <th>O3 Quality</th>\n",
       "      <th>O3 Value</th>\n",
       "      <th>NO2 Hour</th>\n",
       "      <th>NO2 Quality</th>\n",
       "      <th>NO2 Value</th>\n",
       "      <th>PM10 Hour</th>\n",
       "      <th>PM10 Quality</th>\n",
       "      <th>PM10 Value</th>\n",
       "      <th>Generated</th>\n",
       "      <th>Date Time</th>\n",
       "    </tr>\n",
       "  </thead>\n",
       "  <tbody>\n",
       "    <tr>\n",
       "      <th>3</th>\n",
       "      <td>Barcelona - Ciutadella</td>\n",
       "      <td>2</td>\n",
       "      <td>2.1874</td>\n",
       "      <td>41.3864</td>\n",
       "      <td>0h</td>\n",
       "      <td>Good</td>\n",
       "      <td>2</td>\n",
       "      <td>0h</td>\n",
       "      <td>Good</td>\n",
       "      <td>86</td>\n",
       "      <td>NaN</td>\n",
       "      <td>NaN</td>\n",
       "      <td>0</td>\n",
       "      <td>2018-01-11</td>\n",
       "      <td>1970-01-01</td>\n",
       "    </tr>\n",
       "    <tr>\n",
       "      <th>11</th>\n",
       "      <td>Barcelona - Ciutadella</td>\n",
       "      <td>2</td>\n",
       "      <td>2.1874</td>\n",
       "      <td>41.3864</td>\n",
       "      <td>0h</td>\n",
       "      <td>Good</td>\n",
       "      <td>4</td>\n",
       "      <td>0h</td>\n",
       "      <td>Good</td>\n",
       "      <td>78</td>\n",
       "      <td>NaN</td>\n",
       "      <td>NaN</td>\n",
       "      <td>0</td>\n",
       "      <td>2018-01-11</td>\n",
       "      <td>1970-01-01</td>\n",
       "    </tr>\n",
       "    <tr>\n",
       "      <th>19</th>\n",
       "      <td>Barcelona - Ciutadella</td>\n",
       "      <td>2</td>\n",
       "      <td>2.1874</td>\n",
       "      <td>41.3864</td>\n",
       "      <td>1h</td>\n",
       "      <td>Good</td>\n",
       "      <td>24</td>\n",
       "      <td>1h</td>\n",
       "      <td>Good</td>\n",
       "      <td>56</td>\n",
       "      <td>NaN</td>\n",
       "      <td>NaN</td>\n",
       "      <td>0</td>\n",
       "      <td>2018-01-11</td>\n",
       "      <td>1970-01-01</td>\n",
       "    </tr>\n",
       "    <tr>\n",
       "      <th>27</th>\n",
       "      <td>Barcelona - Ciutadella</td>\n",
       "      <td>2</td>\n",
       "      <td>2.1874</td>\n",
       "      <td>41.3864</td>\n",
       "      <td>2h</td>\n",
       "      <td>Good</td>\n",
       "      <td>45</td>\n",
       "      <td>2h</td>\n",
       "      <td>Good</td>\n",
       "      <td>29</td>\n",
       "      <td>NaN</td>\n",
       "      <td>NaN</td>\n",
       "      <td>0</td>\n",
       "      <td>2018-01-11</td>\n",
       "      <td>1970-01-01</td>\n",
       "    </tr>\n",
       "    <tr>\n",
       "      <th>35</th>\n",
       "      <td>Barcelona - Ciutadella</td>\n",
       "      <td>2</td>\n",
       "      <td>2.1874</td>\n",
       "      <td>41.3864</td>\n",
       "      <td>3h</td>\n",
       "      <td>Good</td>\n",
       "      <td>61</td>\n",
       "      <td>3h</td>\n",
       "      <td>Good</td>\n",
       "      <td>19</td>\n",
       "      <td>NaN</td>\n",
       "      <td>NaN</td>\n",
       "      <td>0</td>\n",
       "      <td>2018-01-11</td>\n",
       "      <td>1970-01-01</td>\n",
       "    </tr>\n",
       "  </tbody>\n",
       "</table>\n",
       "</div>"
      ],
      "text/plain": [
       "                   Station  Air Quality  Longitude  Latitude O3 Hour  \\\n",
       "3   Barcelona - Ciutadella            2     2.1874   41.3864      0h   \n",
       "11  Barcelona - Ciutadella            2     2.1874   41.3864      0h   \n",
       "19  Barcelona - Ciutadella            2     2.1874   41.3864      1h   \n",
       "27  Barcelona - Ciutadella            2     2.1874   41.3864      2h   \n",
       "35  Barcelona - Ciutadella            2     2.1874   41.3864      3h   \n",
       "\n",
       "   O3 Quality  O3 Value NO2 Hour NO2 Quality  NO2 Value PM10 Hour  \\\n",
       "3        Good         2       0h        Good         86       NaN   \n",
       "11       Good         4       0h        Good         78       NaN   \n",
       "19       Good        24       1h        Good         56       NaN   \n",
       "27       Good        45       2h        Good         29       NaN   \n",
       "35       Good        61       3h        Good         19       NaN   \n",
       "\n",
       "   PM10 Quality  PM10 Value  Generated  Date Time  \n",
       "3           NaN           0 2018-01-11 1970-01-01  \n",
       "11          NaN           0 2018-01-11 1970-01-01  \n",
       "19          NaN           0 2018-01-11 1970-01-01  \n",
       "27          NaN           0 2018-01-11 1970-01-01  \n",
       "35          NaN           0 2018-01-11 1970-01-01  "
      ]
     },
     "execution_count": 32,
     "metadata": {},
     "output_type": "execute_result"
    }
   ],
   "source": [
    "air_quality[air_quality['Station'] == \"Barcelona - Ciutadella\"].head()"
   ]
  },
  {
   "cell_type": "markdown",
   "id": "e71c8bbd",
   "metadata": {},
   "source": [
    "### 13b - Filtrer un dataframe : colonnes"
   ]
  },
  {
   "cell_type": "markdown",
   "id": "417f9ab4",
   "metadata": {},
   "source": [
    "#### .loc[lignes,colonnes]"
   ]
  },
  {
   "cell_type": "markdown",
   "id": "9532a3d5",
   "metadata": {},
   "source": [
    "pd.DataFrame.loc() : filtre le dataframe avec les arguments spécifiés [lignes, colonnes]."
   ]
  },
  {
   "cell_type": "code",
   "execution_count": 33,
   "id": "c35ccf5f",
   "metadata": {},
   "outputs": [
    {
     "data": {
      "text/html": [
       "<div>\n",
       "<style scoped>\n",
       "    .dataframe tbody tr th:only-of-type {\n",
       "        vertical-align: middle;\n",
       "    }\n",
       "\n",
       "    .dataframe tbody tr th {\n",
       "        vertical-align: top;\n",
       "    }\n",
       "\n",
       "    .dataframe thead th {\n",
       "        text-align: right;\n",
       "    }\n",
       "</style>\n",
       "<table border=\"1\" class=\"dataframe\">\n",
       "  <thead>\n",
       "    <tr style=\"text-align: right;\">\n",
       "      <th></th>\n",
       "      <th>Station</th>\n",
       "      <th>Air Quality</th>\n",
       "      <th>O3 Quality</th>\n",
       "    </tr>\n",
       "  </thead>\n",
       "  <tbody>\n",
       "    <tr>\n",
       "      <th>0</th>\n",
       "      <td>Barcelona - Sants</td>\n",
       "      <td>2</td>\n",
       "      <td>NaN</td>\n",
       "    </tr>\n",
       "    <tr>\n",
       "      <th>1</th>\n",
       "      <td>Barcelona - Eixample</td>\n",
       "      <td>1</td>\n",
       "      <td>Good</td>\n",
       "    </tr>\n",
       "    <tr>\n",
       "      <th>2</th>\n",
       "      <td>Barcelona - Gràcia</td>\n",
       "      <td>2</td>\n",
       "      <td>Good</td>\n",
       "    </tr>\n",
       "    <tr>\n",
       "      <th>3</th>\n",
       "      <td>Barcelona - Ciutadella</td>\n",
       "      <td>2</td>\n",
       "      <td>Good</td>\n",
       "    </tr>\n",
       "    <tr>\n",
       "      <th>4</th>\n",
       "      <td>Barcelona - Vall Hebron</td>\n",
       "      <td>2</td>\n",
       "      <td>Good</td>\n",
       "    </tr>\n",
       "    <tr>\n",
       "      <th>...</th>\n",
       "      <td>...</td>\n",
       "      <td>...</td>\n",
       "      <td>...</td>\n",
       "    </tr>\n",
       "    <tr>\n",
       "      <th>5739</th>\n",
       "      <td>Barcelona - Ciutadella</td>\n",
       "      <td>2</td>\n",
       "      <td>Good</td>\n",
       "    </tr>\n",
       "    <tr>\n",
       "      <th>5740</th>\n",
       "      <td>Barcelona - Vall Hebron</td>\n",
       "      <td>2</td>\n",
       "      <td>Good</td>\n",
       "    </tr>\n",
       "    <tr>\n",
       "      <th>5741</th>\n",
       "      <td>Barcelona - Palau Reial</td>\n",
       "      <td>2</td>\n",
       "      <td>Good</td>\n",
       "    </tr>\n",
       "    <tr>\n",
       "      <th>5742</th>\n",
       "      <td>Barcelona - Poblenou</td>\n",
       "      <td>2</td>\n",
       "      <td>NaN</td>\n",
       "    </tr>\n",
       "    <tr>\n",
       "      <th>5743</th>\n",
       "      <td>Barcelona - Observ Fabra</td>\n",
       "      <td>2</td>\n",
       "      <td>Good</td>\n",
       "    </tr>\n",
       "  </tbody>\n",
       "</table>\n",
       "<p>5744 rows × 3 columns</p>\n",
       "</div>"
      ],
      "text/plain": [
       "                       Station  Air Quality O3 Quality\n",
       "0            Barcelona - Sants            2        NaN\n",
       "1         Barcelona - Eixample            1       Good\n",
       "2           Barcelona - Gràcia            2       Good\n",
       "3       Barcelona - Ciutadella            2       Good\n",
       "4      Barcelona - Vall Hebron            2       Good\n",
       "...                        ...          ...        ...\n",
       "5739    Barcelona - Ciutadella            2       Good\n",
       "5740   Barcelona - Vall Hebron            2       Good\n",
       "5741   Barcelona - Palau Reial            2       Good\n",
       "5742      Barcelona - Poblenou            2        NaN\n",
       "5743  Barcelona - Observ Fabra            2       Good\n",
       "\n",
       "[5744 rows x 3 columns]"
      ]
     },
     "execution_count": 33,
     "metadata": {},
     "output_type": "execute_result"
    }
   ],
   "source": [
    "air_quality.loc[:,['Station', 'Air Quality', 'O3 Quality']]"
   ]
  },
  {
   "cell_type": "markdown",
   "id": "5e7cb6f9",
   "metadata": {},
   "source": [
    "#### .iloc[indices_lignes,indices_colonnes]"
   ]
  },
  {
   "cell_type": "markdown",
   "id": "ef876785",
   "metadata": {},
   "source": [
    "pd.DataFrame.iloc() : filtre le dataframe avec les arguments spécifiés en indice [indices_lignes, indices_colonnes]."
   ]
  },
  {
   "cell_type": "code",
   "execution_count": 34,
   "id": "35051833",
   "metadata": {},
   "outputs": [
    {
     "data": {
      "text/html": [
       "<div>\n",
       "<style scoped>\n",
       "    .dataframe tbody tr th:only-of-type {\n",
       "        vertical-align: middle;\n",
       "    }\n",
       "\n",
       "    .dataframe tbody tr th {\n",
       "        vertical-align: top;\n",
       "    }\n",
       "\n",
       "    .dataframe thead th {\n",
       "        text-align: right;\n",
       "    }\n",
       "</style>\n",
       "<table border=\"1\" class=\"dataframe\">\n",
       "  <thead>\n",
       "    <tr style=\"text-align: right;\">\n",
       "      <th></th>\n",
       "      <th>Station</th>\n",
       "      <th>Air Quality</th>\n",
       "      <th>O3 Quality</th>\n",
       "    </tr>\n",
       "  </thead>\n",
       "  <tbody>\n",
       "    <tr>\n",
       "      <th>0</th>\n",
       "      <td>Barcelona - Sants</td>\n",
       "      <td>2</td>\n",
       "      <td>NaN</td>\n",
       "    </tr>\n",
       "    <tr>\n",
       "      <th>1</th>\n",
       "      <td>Barcelona - Eixample</td>\n",
       "      <td>1</td>\n",
       "      <td>Good</td>\n",
       "    </tr>\n",
       "    <tr>\n",
       "      <th>2</th>\n",
       "      <td>Barcelona - Gràcia</td>\n",
       "      <td>2</td>\n",
       "      <td>Good</td>\n",
       "    </tr>\n",
       "    <tr>\n",
       "      <th>3</th>\n",
       "      <td>Barcelona - Ciutadella</td>\n",
       "      <td>2</td>\n",
       "      <td>Good</td>\n",
       "    </tr>\n",
       "    <tr>\n",
       "      <th>4</th>\n",
       "      <td>Barcelona - Vall Hebron</td>\n",
       "      <td>2</td>\n",
       "      <td>Good</td>\n",
       "    </tr>\n",
       "    <tr>\n",
       "      <th>...</th>\n",
       "      <td>...</td>\n",
       "      <td>...</td>\n",
       "      <td>...</td>\n",
       "    </tr>\n",
       "    <tr>\n",
       "      <th>5739</th>\n",
       "      <td>Barcelona - Ciutadella</td>\n",
       "      <td>2</td>\n",
       "      <td>Good</td>\n",
       "    </tr>\n",
       "    <tr>\n",
       "      <th>5740</th>\n",
       "      <td>Barcelona - Vall Hebron</td>\n",
       "      <td>2</td>\n",
       "      <td>Good</td>\n",
       "    </tr>\n",
       "    <tr>\n",
       "      <th>5741</th>\n",
       "      <td>Barcelona - Palau Reial</td>\n",
       "      <td>2</td>\n",
       "      <td>Good</td>\n",
       "    </tr>\n",
       "    <tr>\n",
       "      <th>5742</th>\n",
       "      <td>Barcelona - Poblenou</td>\n",
       "      <td>2</td>\n",
       "      <td>NaN</td>\n",
       "    </tr>\n",
       "    <tr>\n",
       "      <th>5743</th>\n",
       "      <td>Barcelona - Observ Fabra</td>\n",
       "      <td>2</td>\n",
       "      <td>Good</td>\n",
       "    </tr>\n",
       "  </tbody>\n",
       "</table>\n",
       "<p>5744 rows × 3 columns</p>\n",
       "</div>"
      ],
      "text/plain": [
       "                       Station  Air Quality O3 Quality\n",
       "0            Barcelona - Sants            2        NaN\n",
       "1         Barcelona - Eixample            1       Good\n",
       "2           Barcelona - Gràcia            2       Good\n",
       "3       Barcelona - Ciutadella            2       Good\n",
       "4      Barcelona - Vall Hebron            2       Good\n",
       "...                        ...          ...        ...\n",
       "5739    Barcelona - Ciutadella            2       Good\n",
       "5740   Barcelona - Vall Hebron            2       Good\n",
       "5741   Barcelona - Palau Reial            2       Good\n",
       "5742      Barcelona - Poblenou            2        NaN\n",
       "5743  Barcelona - Observ Fabra            2       Good\n",
       "\n",
       "[5744 rows x 3 columns]"
      ]
     },
     "execution_count": 34,
     "metadata": {},
     "output_type": "execute_result"
    }
   ],
   "source": [
    "air_quality.iloc[:,[0,1,5]]"
   ]
  },
  {
   "cell_type": "markdown",
   "id": "32520e9c",
   "metadata": {},
   "source": [
    "### 14 - Exporter un fichier en csv"
   ]
  },
  {
   "cell_type": "markdown",
   "id": "8ff60573",
   "metadata": {},
   "source": [
    "pd.DataFrame.to_csv() : écrit le contenu d'un dataframe dans un fichier csv."
   ]
  },
  {
   "cell_type": "code",
   "execution_count": 37,
   "id": "aa3d2e4c",
   "metadata": {},
   "outputs": [],
   "source": [
    "air_quality.to_csv(path_or_buf='C:/Users/sacha/OneDrive/Documents/Projets Data/PSB MScDM Course DB/air_quality_retrai.csv',\n",
    "                   index = False,\n",
    "                   date_format='%Y-%m-%d')"
   ]
  },
  {
   "cell_type": "markdown",
   "id": "80f86bad",
   "metadata": {},
   "source": [
    "NB : Il est possible de choisir le format des dates lors de l'export du fichier avec le paramètre 'date_format' (il n'est donc pas forcément nécessaire de retraiter les formats avant l'export)."
   ]
  },
  {
   "cell_type": "markdown",
   "id": "bbec1479",
   "metadata": {},
   "source": [
    "## V - Visualisation des données"
   ]
  },
  {
   "cell_type": "markdown",
   "id": "ffdbc4a2",
   "metadata": {},
   "source": [
    "### 15a - Visualisation avec la fonction plot d'un Dataframe (pandas)"
   ]
  },
  {
   "cell_type": "code",
   "execution_count": 55,
   "id": "3262908a",
   "metadata": {},
   "outputs": [
    {
     "data": {
      "image/png": "[encoded data removed]",
      "text/plain": [
       "<Figure size 720x504 with 1 Axes>"
      ]
     },
     "metadata": {
      "needs_background": "light"
     },
     "output_type": "display_data"
    }
   ],
   "source": [
    "air_qua_station.plot.bar(rot=70, figsize=(10,7))\n",
    "plt.axhline(y=air_qua_station['Air Quality'].mean(), color='r', label='Moyenne', linestyle='--')\n",
    "plt.title(\"Qualité de l'air par Station à Barcelone\", fontsize = 15)\n",
    "plt.ylabel(\"Air Quality\")\n",
    "plt.legend()\n",
    "plt.show()"
   ]
  },
  {
   "cell_type": "markdown",
   "id": "68c41ead",
   "metadata": {},
   "source": [
    "### 15b - Visualisation avec la fonction plot de Seaborn"
   ]
  },
  {
   "cell_type": "code",
   "execution_count": 38,
   "id": "7411cb96",
   "metadata": {},
   "outputs": [
    {
     "data": {
      "image/png": "[encoded data removed]",
      "text/plain": [
       "<Figure size 720x504 with 1 Axes>"
      ]
     },
     "metadata": {
      "needs_background": "light"
     },
     "output_type": "display_data"
    }
   ],
   "source": [
    "plt.figure(figsize=(10,7))\n",
    "sns.barplot(data = air_qua_station, x = air_qua_station.index, y = 'Air Quality', label = 'Air Quality', color='tab:blue')\n",
    "plt.axhline(y=air_qua_station['Air Quality'].mean(), color='r', label='Moyenne', linestyle='--')\n",
    "plt.xticks(rotation=70)\n",
    "plt.title(\"Qualité de l'air par Station à Barcelone\", fontsize = 15)\n",
    "plt.legend()\n",
    "plt.show()"
   ]
  },
  {
   "cell_type": "markdown",
   "id": "bf6bc45f",
   "metadata": {},
   "source": [
    "### 15c - Visualisation avec la fonction plot de Matplotlib"
   ]
  },
  {
   "cell_type": "code",
   "execution_count": 39,
   "id": "df1e0de7",
   "metadata": {},
   "outputs": [],
   "source": [
    "color = air_qua_station['Air Quality'].apply(lambda x: 'tab:blue' if x > air_qua_station['Air Quality'].mean() else 'lightcoral')"
   ]
  },
  {
   "cell_type": "code",
   "execution_count": 40,
   "id": "ec8f4954",
   "metadata": {},
   "outputs": [
    {
     "data": {
      "text/plain": [
       "Station\n",
       "Barcelona - Vall Hebron       tab:blue\n",
       "Barcelona - Palau Reial       tab:blue\n",
       "Barcelona - Observ Fabra      tab:blue\n",
       "Barcelona - Ciutadella        tab:blue\n",
       "Barcelona - Poblenou          tab:blue\n",
       "Barcelona - Eixample        lightcoral\n",
       "Barcelona - Sants           lightcoral\n",
       "Barcelona - Gràcia          lightcoral\n",
       "Name: Air Quality, dtype: object"
      ]
     },
     "execution_count": 40,
     "metadata": {},
     "output_type": "execute_result"
    }
   ],
   "source": [
    "color"
   ]
  },
  {
   "cell_type": "code",
   "execution_count": 41,
   "id": "efa0abf4",
   "metadata": {},
   "outputs": [
    {
     "data": {
      "image/png": "[encoded data removed]",
      "text/plain": [
       "<Figure size 720x504 with 1 Axes>"
      ]
     },
     "metadata": {
      "needs_background": "light"
     },
     "output_type": "display_data"
    }
   ],
   "source": [
    "plt.figure(figsize=(10,7))\n",
    "plt.bar(air_qua_station.index, air_qua_station['Air Quality'], color=color, label='Air Quality')\n",
    "plt.axhline(y=air_qua_station['Air Quality'].mean(), color='r', label='Moyenne', linestyle='--')\n",
    "plt.xticks(rotation=70)\n",
    "plt.xlabel(\"Station\")\n",
    "plt.ylabel(\"Air Quality\")\n",
    "plt.title(\"Qualité de l'air par Station à Barcelone\", fontsize = 15)\n",
    "plt.legend()\n",
    "plt.show()"
   ]
  },
  {
   "cell_type": "markdown",
   "id": "9b1e2457",
   "metadata": {},
   "source": [
    "### 16 - Visualisation en nuage de point (scatterplot)"
   ]
  },
  {
   "cell_type": "code",
   "execution_count": 42,
   "id": "6278ed8d",
   "metadata": {},
   "outputs": [
    {
     "data": {
      "text/html": [
       "<div>\n",
       "<style scoped>\n",
       "    .dataframe tbody tr th:only-of-type {\n",
       "        vertical-align: middle;\n",
       "    }\n",
       "\n",
       "    .dataframe tbody tr th {\n",
       "        vertical-align: top;\n",
       "    }\n",
       "\n",
       "    .dataframe thead th {\n",
       "        text-align: right;\n",
       "    }\n",
       "</style>\n",
       "<table border=\"1\" class=\"dataframe\">\n",
       "  <thead>\n",
       "    <tr style=\"text-align: right;\">\n",
       "      <th></th>\n",
       "      <th>Station</th>\n",
       "      <th>Air Quality</th>\n",
       "      <th>O3 Quality</th>\n",
       "      <th>O3 Value</th>\n",
       "      <th>NO2 Quality</th>\n",
       "      <th>NO2 Value</th>\n",
       "    </tr>\n",
       "  </thead>\n",
       "  <tbody>\n",
       "    <tr>\n",
       "      <th>0</th>\n",
       "      <td>Barcelona - Sants</td>\n",
       "      <td>2</td>\n",
       "      <td>NaN</td>\n",
       "      <td>0</td>\n",
       "      <td>Good</td>\n",
       "      <td>84</td>\n",
       "    </tr>\n",
       "    <tr>\n",
       "      <th>1</th>\n",
       "      <td>Barcelona - Eixample</td>\n",
       "      <td>1</td>\n",
       "      <td>Good</td>\n",
       "      <td>1</td>\n",
       "      <td>Moderate</td>\n",
       "      <td>113</td>\n",
       "    </tr>\n",
       "    <tr>\n",
       "      <th>2</th>\n",
       "      <td>Barcelona - Gràcia</td>\n",
       "      <td>2</td>\n",
       "      <td>Good</td>\n",
       "      <td>10</td>\n",
       "      <td>Good</td>\n",
       "      <td>73</td>\n",
       "    </tr>\n",
       "    <tr>\n",
       "      <th>3</th>\n",
       "      <td>Barcelona - Ciutadella</td>\n",
       "      <td>2</td>\n",
       "      <td>Good</td>\n",
       "      <td>2</td>\n",
       "      <td>Good</td>\n",
       "      <td>86</td>\n",
       "    </tr>\n",
       "    <tr>\n",
       "      <th>4</th>\n",
       "      <td>Barcelona - Vall Hebron</td>\n",
       "      <td>2</td>\n",
       "      <td>Good</td>\n",
       "      <td>7</td>\n",
       "      <td>Good</td>\n",
       "      <td>69</td>\n",
       "    </tr>\n",
       "    <tr>\n",
       "      <th>...</th>\n",
       "      <td>...</td>\n",
       "      <td>...</td>\n",
       "      <td>...</td>\n",
       "      <td>...</td>\n",
       "      <td>...</td>\n",
       "      <td>...</td>\n",
       "    </tr>\n",
       "    <tr>\n",
       "      <th>5739</th>\n",
       "      <td>Barcelona - Ciutadella</td>\n",
       "      <td>2</td>\n",
       "      <td>Good</td>\n",
       "      <td>10</td>\n",
       "      <td>Good</td>\n",
       "      <td>57</td>\n",
       "    </tr>\n",
       "    <tr>\n",
       "      <th>5740</th>\n",
       "      <td>Barcelona - Vall Hebron</td>\n",
       "      <td>2</td>\n",
       "      <td>Good</td>\n",
       "      <td>32</td>\n",
       "      <td>Good</td>\n",
       "      <td>31</td>\n",
       "    </tr>\n",
       "    <tr>\n",
       "      <th>5741</th>\n",
       "      <td>Barcelona - Palau Reial</td>\n",
       "      <td>2</td>\n",
       "      <td>Good</td>\n",
       "      <td>40</td>\n",
       "      <td>Good</td>\n",
       "      <td>20</td>\n",
       "    </tr>\n",
       "    <tr>\n",
       "      <th>5742</th>\n",
       "      <td>Barcelona - Poblenou</td>\n",
       "      <td>2</td>\n",
       "      <td>NaN</td>\n",
       "      <td>0</td>\n",
       "      <td>Good</td>\n",
       "      <td>70</td>\n",
       "    </tr>\n",
       "    <tr>\n",
       "      <th>5743</th>\n",
       "      <td>Barcelona - Observ Fabra</td>\n",
       "      <td>2</td>\n",
       "      <td>Good</td>\n",
       "      <td>64</td>\n",
       "      <td>Good</td>\n",
       "      <td>21</td>\n",
       "    </tr>\n",
       "  </tbody>\n",
       "</table>\n",
       "<p>5744 rows × 6 columns</p>\n",
       "</div>"
      ],
      "text/plain": [
       "                       Station  Air Quality O3 Quality  O3 Value NO2 Quality  \\\n",
       "0            Barcelona - Sants            2        NaN         0        Good   \n",
       "1         Barcelona - Eixample            1       Good         1    Moderate   \n",
       "2           Barcelona - Gràcia            2       Good        10        Good   \n",
       "3       Barcelona - Ciutadella            2       Good         2        Good   \n",
       "4      Barcelona - Vall Hebron            2       Good         7        Good   \n",
       "...                        ...          ...        ...       ...         ...   \n",
       "5739    Barcelona - Ciutadella            2       Good        10        Good   \n",
       "5740   Barcelona - Vall Hebron            2       Good        32        Good   \n",
       "5741   Barcelona - Palau Reial            2       Good        40        Good   \n",
       "5742      Barcelona - Poblenou            2        NaN         0        Good   \n",
       "5743  Barcelona - Observ Fabra            2       Good        64        Good   \n",
       "\n",
       "      NO2 Value  \n",
       "0            84  \n",
       "1           113  \n",
       "2            73  \n",
       "3            86  \n",
       "4            69  \n",
       "...         ...  \n",
       "5739         57  \n",
       "5740         31  \n",
       "5741         20  \n",
       "5742         70  \n",
       "5743         21  \n",
       "\n",
       "[5744 rows x 6 columns]"
      ]
     },
     "execution_count": 42,
     "metadata": {},
     "output_type": "execute_result"
    }
   ],
   "source": [
    "scaplot = air_quality.loc[:,['Station', 'Air Quality', 'O3 Quality', 'O3 Value', 'NO2 Quality', 'NO2 Value']]\n",
    "scaplot"
   ]
  },
  {
   "cell_type": "code",
   "execution_count": 43,
   "id": "da01d4c4",
   "metadata": {},
   "outputs": [
    {
     "data": {
      "image/png": "[encoded data removed]",
      "text/plain": [
       "<Figure size 720x504 with 1 Axes>"
      ]
     },
     "metadata": {
      "needs_background": "light"
     },
     "output_type": "display_data"
    }
   ],
   "source": [
    "plt.figure(figsize=(10,7))\n",
    "sns.scatterplot(data=scaplot.head(200), x='O3 Value', y='NO2 Value', hue='Station')\n",
    "plt.title('Correlation entre les valeurs de 03 et de NO2 des stations', fontsize=15)\n",
    "plt.show()"
   ]
  },
  {
   "cell_type": "markdown",
   "id": "8f2c58ad",
   "metadata": {},
   "source": [
    "### 17 - Analyse des corrélations entre variables"
   ]
  },
  {
   "cell_type": "code",
   "execution_count": 44,
   "id": "b3c2f085",
   "metadata": {},
   "outputs": [
    {
     "data": {
      "image/png": "[encoded data removed]",
      "text/plain": [
       "<Figure size 720x504 with 2 Axes>"
      ]
     },
     "metadata": {
      "needs_background": "light"
     },
     "output_type": "display_data"
    }
   ],
   "source": [
    "plt.figure(figsize=(10,7))\n",
    "sns.heatmap(air_quality.corr(), vmin=-1, vmax=1, annot=True)\n",
    "plt.title(\"Map de corrélation\", fontsize=15)\n",
    "plt.show()"
   ]
  },
  {
   "cell_type": "code",
   "execution_count": null,
   "id": "7a1a4c03",
   "metadata": {},
   "outputs": [],
   "source": []
  },
  {
   "cell_type": "code",
   "execution_count": null,
   "id": "e6c4248d",
   "metadata": {},
   "outputs": [],
   "source": []
  },
  {
   "cell_type": "code",
   "execution_count": null,
   "id": "c1447d62",
   "metadata": {},
   "outputs": [],
   "source": []
  },
  {
   "cell_type": "code",
   "execution_count": null,
   "id": "6a255b66",
   "metadata": {},
   "outputs": [],
   "source": []
  }
 ],
 "metadata": {
  "kernelspec": {
   "display_name": "Python 3",
   "language": "python",
   "name": "python3"
  },
  "language_info": {
   "codemirror_mode": {
    "name": "ipython",
    "version": 3
   },
   "file_extension": ".py",
   "mimetype": "text/x-python",
   "name": "python",
   "nbconvert_exporter": "python",
   "pygments_lexer": "ipython3",
   "version": "3.8.8"
  }
 },
 "nbformat": 4,
 "nbformat_minor": 5
}
